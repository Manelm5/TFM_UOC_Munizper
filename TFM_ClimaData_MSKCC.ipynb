{
 "cells": [
  {
   "cell_type": "code",
   "execution_count": null,
   "id": "01e1659b-e759-4950-ac51-3692f2f3c256",
   "metadata": {},
   "outputs": [],
   "source": [
    "import numpy as np\n",
    "import pandas as pd\n",
    "import os\n",
    "import cv2\n",
    "import sys\n",
    "import timeit\n",
    "import matplotlib.pyplot as plt\n",
    "import seaborn as sns\n",
    "from numpy import asarray \n",
    "from datasets import load_dataset \n",
    "import warnings\n",
    "import csv\n",
    "import random"
   ]
  },
  {
   "cell_type": "code",
   "execution_count": null,
   "id": "3c922678-026a-4b25-b95e-79ef5613affb",
   "metadata": {},
   "outputs": [],
   "source": [
    "meteo_new_york_complete = pd.read_csv('./ISIC_MSKCC/New_York_MeteoData2020.csv', on_bad_lines='skip')"
   ]
  },
  {
   "cell_type": "code",
   "execution_count": null,
   "id": "8a7811aa-fc7e-467b-bde1-eff90285db29",
   "metadata": {},
   "outputs": [],
   "source": [
    "meteo_new_york_complete"
   ]
  },
  {
   "cell_type": "code",
   "execution_count": null,
   "id": "ab0a56bf-0b2d-4645-92f0-fbd3f8787e04",
   "metadata": {},
   "outputs": [],
   "source": [
    "# Get unique values for each column\n",
    "unique_values = {col: meteo_new_york_complete[col].unique() for col in meteo_new_york_complete.columns}\n",
    "\n",
    "print(unique_values)"
   ]
  },
  {
   "cell_type": "code",
   "execution_count": null,
   "id": "1bb191e3-fe60-4ba4-8013-a19f89dfb9da",
   "metadata": {},
   "outputs": [],
   "source": [
    "# List the columns\n",
    "columns_list = meteo_new_york_complete.columns.tolist()\n",
    "\n",
    "print(columns_list)"
   ]
  },
  {
   "cell_type": "code",
   "execution_count": null,
   "id": "b66a2c4d-a76e-42b1-a767-6fda5468207e",
   "metadata": {},
   "outputs": [],
   "source": [
    "# Check for null values\n",
    "null_values = meteo_new_york_complete.isnull()\n",
    "\n",
    "# Count null values in each column\n",
    "null_counts_per_column = null_values.sum()\n",
    "\n",
    "# Count null values in each row\n",
    "null_counts_per_row = null_values.sum(axis=1)\n",
    "\n",
    "print(\"Null values in each column:\")\n",
    "print(null_counts_per_column)"
   ]
  },
  {
   "cell_type": "code",
   "execution_count": null,
   "id": "2577af4d-0240-464f-a59d-efc76ac63995",
   "metadata": {},
   "outputs": [],
   "source": [
    "# Calculate the sum of null values in each column\n",
    "null_counts_per_column = meteo_new_york_complete.isnull().sum()\n",
    "\n",
    "# Get the columns where the sum of null values is greater than 20000\n",
    "columns_to_delete = null_counts_per_column[null_counts_per_column > 20000].index.tolist()\n",
    "\n",
    "# Delete the columns\n",
    "meteo_new_york_complete = meteo_new_york_complete.drop(columns=columns_to_delete)"
   ]
  },
  {
   "cell_type": "code",
   "execution_count": null,
   "id": "223fdc05-3224-4047-9a0b-fff4d6a11cc3",
   "metadata": {},
   "outputs": [],
   "source": [
    "# Check for null values\n",
    "null_values = meteo_new_york_complete.isnull()\n",
    "\n",
    "# Count null values in each column\n",
    "null_counts_per_column = null_values.sum()\n",
    "\n",
    "# Count null values in each row\n",
    "null_counts_per_row = null_values.sum(axis=1)\n",
    "\n",
    "print(\"Null values in each column:\")\n",
    "print(null_counts_per_column)"
   ]
  },
  {
   "cell_type": "raw",
   "id": "d21d1510-0ef9-4c83-91df-4d7e2b1e2abe",
   "metadata": {},
   "source": [
    "De todos los parámetros que tenemos, decidimos quedarnos con los siguientes dados que son los que tienen más muestras en el dataset:\n",
    "\n",
    "Temperature (°C)                        366\r\n",
    "Dew Point (°C)                          3666\r\n",
    "Wind Speed (kph)                        380\r\n",
    "Wind Direction (degrees)               2592\r\n",
    "Visibility (km)                            447"
   ]
  },
  {
   "cell_type": "code",
   "execution_count": null,
   "id": "83259bb9-6fc6-43b5-b598-7022a391c438",
   "metadata": {},
   "outputs": [],
   "source": [
    "# Calcula las estadísticas\n",
    "max_temp = meteo_new_york_complete['Temperature (°C)'].max()\n",
    "min_temp = meteo_new_york_complete['Temperature (°C)'].min()\n",
    "mean_temp = meteo_new_york_complete['Temperature (°C)'].mean()\n",
    "median_temp = meteo_new_york_complete['Temperature (°C)'].median()\n",
    "std_temp = meteo_new_york_complete['Temperature (°C)'].std()\n",
    "\n",
    "# Imprime las estadísticas\n",
    "print(\"Temperatura máxima:\", max_temp)\n",
    "print(\"Temperatura mínima:\", min_temp)\n",
    "print(\"Temperatura media:\", mean_temp)\n",
    "print(\"Temperatura mediana:\", median_temp)\n",
    "print(\"Desviación estándar de la temperatura:\", std_temp)"
   ]
  },
  {
   "cell_type": "code",
   "execution_count": null,
   "id": "2f026634-abb6-4a02-b6b1-c87aa43b93ec",
   "metadata": {},
   "outputs": [],
   "source": [
    "# Calcula los estadísticos\n",
    "maximo_dew_point = meteo_new_york_complete['Dew Point (°C)'].max()\n",
    "minimo_dew_point = meteo_new_york_complete['Dew Point (°C)'].min()\n",
    "media_dew_point = meteo_new_york_complete['Dew Point (°C)'].mean()\n",
    "mediana_dew_point = meteo_new_york_complete['Dew Point (°C)'].median()\n",
    "desviacion_estandar_dew_point = meteo_new_york_complete['Dew Point (°C)'].std()\n",
    "\n",
    "# Imprime los estadísticos\n",
    "print(\"Máximo Dew Point (°C):\", maximo_dew_point)\n",
    "print(\"Mínimo Dew Point (°C):\", minimo_dew_point)\n",
    "print(\"Media Dew Point (°C):\", media_dew_point)\n",
    "print(\"Mediana Dew Point (°C):\", mediana_dew_point)\n",
    "print(\"Desviación estándar Dew Point (°C):\", desviacion_estandar_dew_point)"
   ]
  },
  {
   "cell_type": "code",
   "execution_count": null,
   "id": "9eb427a2-2d6e-41ec-9461-df8c60411b51",
   "metadata": {},
   "outputs": [],
   "source": [
    "# Calcula los estadísticos para la columna 'Wind Speed (kph)'\n",
    "maximo_wind_speed = meteo_new_york_complete['Wind Speed (kph)'].max()\n",
    "minimo_wind_speed = meteo_new_york_complete['Wind Speed (kph)'].min()\n",
    "media_wind_speed = meteo_new_york_complete['Wind Speed (kph)'].mean()\n",
    "mediana_wind_speed = meteo_new_york_complete['Wind Speed (kph)'].median()\n",
    "desviacion_estandar_wind_speed = meteo_new_york_complete['Wind Speed (kph)'].std()\n",
    "\n",
    "# Imprime los estadísticos\n",
    "print(\"Máxima Wind Speed (kph):\", maximo_wind_speed)\n",
    "print(\"Mínima Wind Speed (kph):\", minimo_wind_speed)\n",
    "print(\"Media Wind Speed (kph):\", media_wind_speed)\n",
    "print(\"Mediana Wind Speed (kph):\", mediana_wind_speed)\n",
    "print(\"Desviación estándar Wind Speed (kph):\", desviacion_estandar_wind_speed)"
   ]
  },
  {
   "cell_type": "code",
   "execution_count": null,
   "id": "dd57a09d-853e-43ca-921d-d45fd591bce5",
   "metadata": {},
   "outputs": [],
   "source": [
    "# Calcula los estadísticos para la columna 'Wind Direction (degrees)'\n",
    "maximo_wind_direction = meteo_new_york_complete['Wind Direction (degrees)'].max()\n",
    "minimo_wind_direction = meteo_new_york_complete['Wind Direction (degrees)'].min()\n",
    "media_wind_direction = meteo_new_york_complete['Wind Direction (degrees)'].mean()\n",
    "mediana_wind_direction = meteo_new_york_complete['Wind Direction (degrees)'].median()\n",
    "desviacion_estandar_wind_direction = meteo_new_york_complete['Wind Direction (degrees)'].std()\n",
    "\n",
    "# Imprime los estadísticos\n",
    "print(\"Máxima Wind Direction (degrees):\", maximo_wind_direction)\n",
    "print(\"Mínima Wind Direction (degrees):\", minimo_wind_direction)\n",
    "print(\"Media Wind Direction (degrees):\", media_wind_direction)\n",
    "print(\"Mediana Wind Direction (degrees):\", mediana_wind_direction)\n",
    "print(\"Desviación estándar Wind Direction (degrees):\", desviacion_estandar_wind_direction)"
   ]
  },
  {
   "cell_type": "code",
   "execution_count": null,
   "id": "95c00fef-6180-49df-93f5-2a3edb853818",
   "metadata": {},
   "outputs": [],
   "source": [
    "# Calcula los estadísticos para la columna 'Visibility (km)'\n",
    "maximo_visibility = meteo_new_york_complete['Visibility (km)'].max()\n",
    "minimo_visibility = meteo_new_york_complete['Visibility (km)'].min()\n",
    "media_visibility = meteo_new_york_complete['Visibility (km)'].mean()\n",
    "mediana_visibility = meteo_new_york_complete['Visibility (km)'].median()\n",
    "desviacion_estandar_visibility = meteo_new_york_complete['Visibility (km)'].std()\n",
    "\n",
    "# Imprime los estadísticos\n",
    "print(\"Máxima Visibility (km):\", maximo_visibility)\n",
    "print(\"Mínima Visibility (km):\", minimo_visibility)\n",
    "print(\"Media Visibility (km):\", media_visibility)\n",
    "print(\"Mediana Visibility (km):\", mediana_visibility)\n",
    "print(\"Desviación estándar Visibility (km):\", desviacion_estandar_visibility)"
   ]
  },
  {
   "cell_type": "code",
   "execution_count": null,
   "id": "90b1399d-f09f-4e07-aeff-1cf35ccda729",
   "metadata": {},
   "outputs": [],
   "source": [
    "meteo_new_york_complete['Max Cloud Layer Code (String)']"
   ]
  },
  {
   "cell_type": "code",
   "execution_count": null,
   "id": "338fd96b-4dbb-41fb-a1d9-4cb47a5b0f0c",
   "metadata": {},
   "outputs": [],
   "source": [
    "meteo_new_york_complete['Cloud Layer Code 1 (String)']"
   ]
  },
  {
   "cell_type": "code",
   "execution_count": null,
   "id": "f6162f36-08a9-49a8-88ab-71236fb3786e",
   "metadata": {},
   "outputs": [],
   "source": [
    "# Contar el número de ocurrencias de cada valor único en la columna 'Cloud Layer Label 1 (String)'\n",
    "conteo_valores = meteo_new_york_complete['Cloud Layer Label 1 (String)'].value_counts()\n",
    "\n",
    "# Imprimir el número de ocurrencias de cada valor único\n",
    "print(conteo_valores)"
   ]
  },
  {
   "cell_type": "code",
   "execution_count": null,
   "id": "7c62126c-d36f-4175-aa98-1b9ead840311",
   "metadata": {},
   "outputs": [],
   "source": [
    "df = pd.read_csv('./ISIC_MSKCC/SolarData_MSKCC.csv',index_col = 0)"
   ]
  },
  {
   "cell_type": "code",
   "execution_count": null,
   "id": "912c9e57-dd0f-44a8-a42d-147e4e696a3f",
   "metadata": {},
   "outputs": [],
   "source": [
    "df"
   ]
  },
  {
   "cell_type": "code",
   "execution_count": null,
   "id": "ea64d0c2-d7b9-4e52-be3c-3fa10950bbf2",
   "metadata": {},
   "outputs": [],
   "source": [
    "# Calcular los estadísticos para cada fila\n",
    "maximos = df.max(axis=1)\n",
    "minimos = df.min(axis=1)\n",
    "medias = df.mean(axis=1)\n",
    "medianas = df.median(axis=1)\n",
    "desviaciones_estandar = df.std(axis=1)\n",
    "\n",
    "# Crear un nuevo DataFrame con los estadísticos calculados\n",
    "estadisticas_por_fila = pd.DataFrame({\n",
    "    'Máximo': maximos,\n",
    "    'Mínimo': minimos,\n",
    "    'Media': medias,\n",
    "    'Mediana': medianas,\n",
    "    'Desviación Estándar': desviaciones_estandar\n",
    "})\n",
    "\n",
    "# Mostrar el DataFrame con los estadísticos por fila\n",
    "print(estadisticas_por_fila)"
   ]
  },
  {
   "cell_type": "code",
   "execution_count": null,
   "id": "5bc13d1a-38b7-4ae5-892b-e10cc87d2346",
   "metadata": {},
   "outputs": [],
   "source": [
    "#Guardamos el dataset de factores externos\n",
    "estadisticas_por_fila.to_csv('./ISIC_MSKCC/MSKCC_solar_calcs.csv', index=False)"
   ]
  },
  {
   "cell_type": "code",
   "execution_count": null,
   "id": "0be0ad7e-f055-4c19-973e-0dda3a7821a9",
   "metadata": {},
   "outputs": [],
   "source": []
  }
 ],
 "metadata": {
  "kernelspec": {
   "display_name": "Python 3 (ipykernel)",
   "language": "python",
   "name": "python3"
  },
  "language_info": {
   "codemirror_mode": {
    "name": "ipython",
    "version": 3
   },
   "file_extension": ".py",
   "mimetype": "text/x-python",
   "name": "python",
   "nbconvert_exporter": "python",
   "pygments_lexer": "ipython3",
   "version": "3.9.19"
  }
 },
 "nbformat": 4,
 "nbformat_minor": 5
}
