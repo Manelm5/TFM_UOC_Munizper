{
 "cells": [
  {
   "cell_type": "code",
   "execution_count": null,
   "id": "ce6e14b0-953d-4446-a2a3-00b092c3a816",
   "metadata": {},
   "outputs": [],
   "source": [
    "import numpy as np\n",
    "import pandas as pd\n",
    "import os\n",
    "import cv2\n",
    "import sys\n",
    "import timeit\n",
    "import matplotlib.pyplot as plt\n",
    "import seaborn as sns\n",
    "from numpy import asarray \n",
    "from datasets import load_dataset \n",
    "from sklearn import model_selection\n",
    "from sklearn.preprocessing import MinMaxScaler\n",
    "from sklearn import metrics\n",
    "from imblearn.over_sampling import RandomOverSampler\n",
    "from sklearn.model_selection import train_test_split\n",
    "from tensorflow.keras.preprocessing.image import ImageDataGenerator\n",
    "from tensorflow.keras.preprocessing.image import ImageDataGenerator, load_img, img_to_array, array_to_img\n",
    "from vit_keras import vit\n",
    "import warnings\n",
    "from PIL import Image\n",
    "import csv\n",
    "import random"
   ]
  },
  {
   "cell_type": "code",
   "execution_count": null,
   "id": "8d6bac6e-240d-4973-b2d4-df3d3b8ce351",
   "metadata": {},
   "outputs": [],
   "source": [
    "#######################\n",
    "# De todas las configuraciones realizadas en el trabajo anterior, usamos CF2 la cuál es la de salida binaria benigno/maligno\n",
    "CF = 'CF2'\n",
    "#######################\n",
    "\n",
    "#Especifique los directorios necesarios\n",
    "#######################\n",
    "path_or = '.\\\\Datos\\\\'\n",
    "path_img = path_or + f'{CF}\\\\imagenes\\\\'\n",
    "input_path = path_or + f'{CF}\\\\salidas\\\\'\n",
    "new_images = path_or + f'{CF}\\\\new_images\\\\'\n",
    "#######################"
   ]
  },
  {
   "cell_type": "code",
   "execution_count": null,
   "id": "b29e9335-a0dd-4f13-bde4-46c57fd95089",
   "metadata": {},
   "outputs": [],
   "source": [
    "#Elige si convertir en variable dataset todos los nombres y clases de las imagenes\n",
    "#######################\n",
    "leer_imagenes_flag = True\n",
    "#######################\n",
    "\n",
    "#Elige si guardar el resultado final en archivos .npy (y_train.npy, x_test.npy...)\n",
    "#######################\n",
    "redimensionar_datos_224_flag = True\n",
    "#######################\n",
    "\n",
    "# Dimensiones de las imágenes para redes preentrenadas\n",
    "WIDTH_224 = 224\n",
    "HEIGHT_224 = 224\n",
    "\n",
    "# Dimensiones de las imágenes para la representación visual\n",
    "WIDTH_VIZ = 600\n",
    "HEIGHT_VIZ = 600"
   ]
  },
  {
   "cell_type": "markdown",
   "id": "994f2104-caf6-49ba-9c5e-7bd03ac66404",
   "metadata": {},
   "source": [
    "# Agrupamiento Datasets (HIBA, HAM, MSKCC)"
   ]
  },
  {
   "cell_type": "code",
   "execution_count": null,
   "id": "08884c2d-91b5-44ad-b034-5dfe8a470ede",
   "metadata": {},
   "outputs": [],
   "source": [
    "dataset_hiba = pd.read_csv('./ISIC_HIBASkinLesionsData/final_metadata_HIBA.csv')\n",
    "dataset_sevilla = pd.read_csv('./Sevilla_Data/final_metadata_Sevilla.csv')\n",
    "dataset_mskcc = pd.read_csv('./ISIC_MSKCC/final_metadata_MSKCC.csv')"
   ]
  },
  {
   "cell_type": "code",
   "execution_count": null,
   "id": "4c0be22d-2aa9-4729-99b7-2cd2d0c32373",
   "metadata": {},
   "outputs": [],
   "source": [
    "dataset_hiba"
   ]
  },
  {
   "cell_type": "code",
   "execution_count": null,
   "id": "4aa1228c-1b3f-4d03-91cd-b1f1a0c716f4",
   "metadata": {},
   "outputs": [],
   "source": [
    "dataset_sevilla"
   ]
  },
  {
   "cell_type": "code",
   "execution_count": null,
   "id": "7534223a-20e4-4b1f-9e30-695f6ee6c6d8",
   "metadata": {},
   "outputs": [],
   "source": [
    "dataset_mskcc"
   ]
  },
  {
   "cell_type": "code",
   "execution_count": null,
   "id": "d68c8c31-7ac6-4d83-ab4f-b8113743d304",
   "metadata": {},
   "outputs": [],
   "source": [
    "dataset_factores_externos = pd.concat([dataset_hiba, dataset_sevilla, dataset_mskcc], ignore_index=True)"
   ]
  },
  {
   "cell_type": "markdown",
   "id": "a0b4e94c-84ab-4831-955c-487fc7af34a8",
   "metadata": {},
   "source": [
    "# Procesamiento Factores externos"
   ]
  },
  {
   "cell_type": "code",
   "execution_count": null,
   "id": "e4c380f9-5318-46a9-b3a2-52a38ae79ced",
   "metadata": {},
   "outputs": [],
   "source": [
    "dataset_factores_externos"
   ]
  },
  {
   "cell_type": "code",
   "execution_count": null,
   "id": "361cc8d3-8202-47d9-9cdd-29904a2c57d2",
   "metadata": {},
   "outputs": [],
   "source": [
    "# Eliminamos las columnas que no serán utilizadas\n",
    "dataset_factores_externos = dataset_factores_externos.drop(columns=[\"anatom_site_general\",\"sex\",\"age\",\"diagnosis\"])"
   ]
  },
  {
   "cell_type": "code",
   "execution_count": null,
   "id": "5f992162-8f8d-4f1a-b286-8a9d40ed9ef9",
   "metadata": {},
   "outputs": [],
   "source": [
    "# Normalizamos la edad \n",
    "scaler = MinMaxScaler()\n",
    "\n",
    "# Lista de columnas que quieres transformar\n",
    "columns_to_transform = [\n",
    "    \"max_dew_point\", \"min_dew_point\", \"mean_dew_point\", \"median_dew_point\", \"std_dew_point\",\n",
    "    \"max_wind_speed\", \"min_wind_speed\", \"mean_wind_speed\", \"median_wind_speed\", \"std_wind_speed\",\n",
    "    \"max_wind_direction\", \"min_wind_direction\", \"mean_wind_direction\", \"median_wind_direction\", \"std_wind_direction\",\n",
    "    \"max_visibility\", \"min_visibility\", \"mean_visibility\", \"median_visibility\", \"std_visibility\",\n",
    "    \"max_temp\", \"min_tmp\", \"mean_temp\", \"median_temp\", \"std_temp\", 'ALLSKY_KT_min', 'ALLSKY_KT_max', 'ALLSKY_KT_mean', 'ALLSKY_KT_median', \n",
    "    'ALLSKY_KT_std', 'CLOUD_AMT_min', 'CLOUD_AMT_max', 'CLOUD_AMT_mean', 'CLOUD_AMT_median', 'CLOUD_AMT_std', \n",
    "    'TOA_SW_DWN_min', 'TOA_SW_DWN_max', 'TOA_SW_DWN_mean', 'TOA_SW_DWN_median', 'TOA_SW_DWN_std', \n",
    "    'ALLSKY_SFC_UVA_min', 'ALLSKY_SFC_UVA_max', 'ALLSKY_SFC_UVA_mean', 'ALLSKY_SFC_UVA_median', \n",
    "    'ALLSKY_SFC_UVA_std', 'ALLSKY_SFC_UVB_min', 'ALLSKY_SFC_UVB_max', 'ALLSKY_SFC_UVB_mean', 'ALLSKY_SFC_UVB_median', \n",
    "    'ALLSKY_SFC_UVB_std', 'ALLSKY_SRF_ALB_min', 'ALLSKY_SRF_ALB_max', 'ALLSKY_SRF_ALB_mean', 'ALLSKY_SRF_ALB_median', \n",
    "    'ALLSKY_SRF_ALB_std', 'ALLSKY_SFC_SW_DNI_min', 'ALLSKY_SFC_SW_DNI_max', 'ALLSKY_SFC_SW_DNI_mean', 'ALLSKY_SFC_SW_DNI_median', \n",
    "    'ALLSKY_SFC_SW_DNI_std', 'ALLSKY_SFC_SW_DWN_min', 'ALLSKY_SFC_SW_DWN_max', 'ALLSKY_SFC_SW_DWN_mean', 'ALLSKY_SFC_SW_DWN_median', \n",
    "    'ALLSKY_SFC_SW_DWN_std', 'ALLSKY_SFC_PAR_TOT_min', 'ALLSKY_SFC_PAR_TOT_max', 'ALLSKY_SFC_PAR_TOT_mean', 'ALLSKY_SFC_PAR_TOT_median', \n",
    "    'ALLSKY_SFC_PAR_TOT_std', 'ALLSKY_SFC_SW_DIFF_min', 'ALLSKY_SFC_SW_DIFF_max', 'ALLSKY_SFC_SW_DIFF_mean', 'ALLSKY_SFC_SW_DIFF_median', \n",
    "    'ALLSKY_SFC_SW_DIFF_std']\n",
    "\n",
    "\n",
    "for column in columns_to_transform:\n",
    "    dataset_factores_externos[column] = scaler.fit_transform(np.array(dataset_factores_externos[column]).reshape(-1, 1))\n",
    "\n",
    "dataset_factores_externos.reset_index(drop=True, inplace=True)"
   ]
  },
  {
   "cell_type": "code",
   "execution_count": null,
   "id": "c3a19d56-9868-4bb6-9638-8acbd4de723b",
   "metadata": {},
   "outputs": [],
   "source": [
    "dataset_factores_externos"
   ]
  },
  {
   "cell_type": "code",
   "execution_count": null,
   "id": "e3d9957a-47b6-48f5-a50a-e84965b42538",
   "metadata": {
    "scrolled": true
   },
   "outputs": [],
   "source": [
    "dataset_factores_externos_corr = dataset_factores_externos.drop(columns=[\"id\"])\n",
    "corr_matrix = dataset_factores_externos_corr.corr().abs()\n",
    "\n",
    "columna_objetivo = 'benign_malignant'  \n",
    "correlaciones_con_columna_objetivo = corr_matrix[columna_objetivo]"
   ]
  },
  {
   "cell_type": "code",
   "execution_count": null,
   "id": "2730e64b-e693-4e7f-8cbb-4203b37390b1",
   "metadata": {},
   "outputs": [],
   "source": [
    "# Filtramos por correlaciones significativas por encima de un 0.2\n",
    "correlaciones_significativas = correlaciones_con_columna_objetivo[(correlaciones_con_columna_objetivo > 0.2) | (correlaciones_con_columna_objetivo < -0.2)]\n",
    "correlaciones_significativas_ordenadas = correlaciones_significativas.sort_values(ascending=False)\n",
    "\n",
    "print(correlaciones_significativas_ordenadas.head(10))"
   ]
  },
  {
   "cell_type": "code",
   "execution_count": null,
   "id": "82efe3ca-d38e-453f-9cc1-27990d949b18",
   "metadata": {},
   "outputs": [],
   "source": [
    "# Nos quedamos con las columnas que utilizaremos en nuestro modelo\n",
    "columnas_seleccionadas = ['id','ALLSKY_SFC_PAR_TOT_min', 'std_temp', \n",
    "                          'ALLSKY_SFC_SW_DWN_min', 'benign_malignant'  ]\n",
    "\n",
    "dataset_factores_externos = dataset_factores_externos[columnas_seleccionadas].copy()\n",
    "dataset_factores_externos"
   ]
  },
  {
   "cell_type": "markdown",
   "id": "c4fd7188-d386-4f98-b89b-3d909df157b3",
   "metadata": {},
   "source": [
    "# Procesamiento imágenes"
   ]
  },
  {
   "cell_type": "code",
   "execution_count": null,
   "id": "447bc13c-6c45-4cdf-b5e7-3b7837810733",
   "metadata": {},
   "outputs": [],
   "source": [
    "# Diccionario con las classes CF2\n",
    "classes = {0: ('ben', 'BENIGNO'),\n",
    "           1: ('mal', 'MALIGNO')}\n",
    "\n",
    "cm_plot_classes = ['ben', 'mal']"
   ]
  },
  {
   "cell_type": "code",
   "execution_count": null,
   "id": "b3b838c5-979c-48b0-891e-938daa6ac349",
   "metadata": {},
   "outputs": [],
   "source": [
    "data=[]\n",
    "with open(path_or + 'metadata_CF2.csv', 'w', newline='') as writeFile:\n",
    "    writer = csv.writer(writeFile, delimiter=';')\n",
    "    writer.writerow(['image', 'label'])\n",
    "    for filename in os.listdir('./Datos/CF2/imagenes/BENIGNO/'):\n",
    "        writer.writerow(['BENIGNO/' + filename, '0'])\n",
    "    for filename in os.listdir('./Datos/CF2/imagenes/MALIGNO/'):\n",
    "        writer.writerow(['MALIGNO/' + filename, '1'])\n",
    "    writeFile.close()"
   ]
  },
  {
   "cell_type": "code",
   "execution_count": null,
   "id": "bb2a66cd-0e3d-4a0d-b6e7-2a4c99aa8809",
   "metadata": {},
   "outputs": [],
   "source": [
    "metadata = pd.read_csv(path_or + f'metadata_{CF}.csv', delimiter=';')\n",
    "metadata"
   ]
  },
  {
   "cell_type": "code",
   "execution_count": null,
   "id": "22dc617e-ce2a-4049-a63b-93a49a41b264",
   "metadata": {},
   "outputs": [],
   "source": [
    "# Generamos una nueva columna 'id' con el nombre de cada una de las imágenes para poder tener un identificador con el que ordenar ambos datasets\n",
    "metadata['id'] = metadata['image'].str.split('/').str[1].str.replace('.jpg', '').str.replace('.JPG', '')"
   ]
  },
  {
   "cell_type": "code",
   "execution_count": null,
   "id": "10e42c7e-691a-42ea-ae84-53622596329b",
   "metadata": {},
   "outputs": [],
   "source": [
    "# Ordenamos ambos datasets por el ID\n",
    "metadata = metadata.sort_values(by='id')\n",
    "dataset_factores_externos = dataset_factores_externos.sort_values(by='id')"
   ]
  },
  {
   "cell_type": "code",
   "execution_count": null,
   "id": "d10906c5-1f0b-4f81-ab1d-8a7ae2c9de7f",
   "metadata": {},
   "outputs": [],
   "source": [
    "metadata"
   ]
  },
  {
   "cell_type": "code",
   "execution_count": null,
   "id": "07117ec1-9181-4666-b16b-391a22d81fc0",
   "metadata": {},
   "outputs": [],
   "source": [
    "dataset_factores_externos"
   ]
  },
  {
   "cell_type": "code",
   "execution_count": null,
   "id": "3626542c-e67b-41c8-9571-9f7078939577",
   "metadata": {},
   "outputs": [],
   "source": [
    "metadata = metadata.drop(columns=[\"id\"])\n",
    "dataset_factores_externos = dataset_factores_externos.drop(columns=[\"id\"])"
   ]
  },
  {
   "cell_type": "code",
   "execution_count": null,
   "id": "f32567aa-be54-4d96-ad43-456fc54a3f1e",
   "metadata": {},
   "outputs": [],
   "source": [
    "#Lo pasamos a float16 para ajustar memoria y optimizar rendimiento\n",
    "dataset_factores_externos = dataset_factores_externos.astype(np.float16)"
   ]
  },
  {
   "cell_type": "code",
   "execution_count": null,
   "id": "b56a645d-b04b-4418-b2d1-a9a084478dfe",
   "metadata": {},
   "outputs": [],
   "source": [
    "# Definimos X e Y para entrenamiento de los factores externos\n",
    "aux = dataset_factores_externos.drop(columns=[\"benign_malignant\"])\n",
    "y_ext = dataset_factores_externos['benign_malignant']\n",
    "x_ext = aux.values # Generamos el conjunto X y lo pasamos a numpy array"
   ]
  },
  {
   "cell_type": "code",
   "execution_count": null,
   "id": "d43f31dd-4666-4e26-876b-6a13b528f8e7",
   "metadata": {},
   "outputs": [],
   "source": [
    "# Distribución de frecuencia de imágenes de cada clase\n",
    "plt.figure(figsize = (12, 8))\n",
    "sns.set_theme(style = 'darkgrid')\n",
    "sns.countplot(data = metadata, x = 'label', order = metadata['label'].value_counts().index, palette = 'mako')\n",
    "plt.xlabel('Clase', size = 15)\n",
    "plt.ylabel('Cantidad', size = 15)\n",
    "plt.title(f'Distribución de frecuencia de imágenes de cada clase en el {CF}', size = 20)"
   ]
  },
  {
   "cell_type": "code",
   "execution_count": null,
   "id": "006cc450-d570-43ee-a1d6-d0e1c54b27d3",
   "metadata": {},
   "outputs": [],
   "source": [
    "# Guardamos el nuevo dataset en formato csv\n",
    "dataset_factores_externos.to_csv(path_or + 'external_factors_metadata_CF2.csv', index=False)"
   ]
  },
  {
   "cell_type": "code",
   "execution_count": null,
   "id": "55557a16-2dc3-4eb8-87f2-cb73ca5d4b75",
   "metadata": {},
   "outputs": [],
   "source": [
    "metadata['label'].value_counts()"
   ]
  },
  {
   "cell_type": "code",
   "execution_count": null,
   "id": "94f58200-a560-442e-8445-d04281ff9364",
   "metadata": {},
   "outputs": [],
   "source": [
    "metadata"
   ]
  },
  {
   "cell_type": "code",
   "execution_count": null,
   "id": "ae04ebec-7da7-4363-8c1a-9406380ebbbe",
   "metadata": {},
   "outputs": [],
   "source": [
    "if leer_imagenes_flag == True:\n",
    "    dataset = load_dataset('csv', data_files=[path_or+f'metadata_{CF}.csv'], delimiter=';')\n",
    "    y = dataset['train']['label']\n",
    "    x = dataset['train']['image']"
   ]
  },
  {
   "cell_type": "code",
   "execution_count": null,
   "id": "b261ba6f-e8bf-4ad6-927e-c7a4c086849c",
   "metadata": {},
   "outputs": [],
   "source": [
    "def modificar_resolucion_imagenes(x, conjunto_nuevo, anchura, altura):\n",
    "    resolucion = (anchura, altura)\n",
    "    for imagen in x:\n",
    "        imagen_pil = Image.open(path_img+imagen)\n",
    "        imagen2 = imagen_pil.convert(\"RGB\")\n",
    "        imagen_redimensionada = imagen2.resize(resolucion)\n",
    "        conjunto_nuevo.append(imagen_redimensionada)"
   ]
  },
  {
   "cell_type": "code",
   "execution_count": null,
   "id": "932198d9-b4e6-433f-a08c-3cca926907c3",
   "metadata": {},
   "outputs": [],
   "source": [
    "if redimensionar_datos_224_flag == True:\n",
    "    x2 = []\n",
    "    modificar_resolucion_imagenes(x, x2, WIDTH_224, HEIGHT_224)\n",
    "\n",
    "    x2_nor = []\n",
    "    for imagen in x2:\n",
    "        imagen2 = imagen.convert(\"RGB\")\n",
    "        # Convertir la imagen a un arreglo NumPy\n",
    "        img_array = np.array(imagen2)\n",
    "        x2_nor.append(img_array)\n",
    "    x2_nor = (x2_nor - np.mean(x2_nor)) / np.std(x2_nor)\n",
    "\n",
    "    x2_nor = np.array(x2_nor)\n",
    "    x2_nor = x2_nor.reshape(-1, WIDTH_224, HEIGHT_224, 3)\n",
    "    y = np.array(y)\n",
    "\n",
    "    # Imagenes\n",
    "    x_train, x_test, y_train, y_test = model_selection.train_test_split(x2_nor, y, test_size=0.2, random_state=1)\n",
    "    x_test, x_val, y_test, y_val = model_selection.train_test_split(x_test, y_test, test_size=0.5, random_state=1)\n",
    "\n",
    "    # Factores externos\n",
    "    x_train_ext, x_test_ext, y_train_ext, y_test_ext = model_selection.train_test_split(x_ext, y_ext, test_size=0.2, random_state=1)\n",
    "    x_test_ext, x_val_ext, y_test_ext, y_val_ext = model_selection.train_test_split(x_test_ext, y_test_ext, test_size=0.5, random_state=1)\n",
    "\n",
    "    # Verificar las dimensiones\n",
    "    print(\"Dimensiones de x_train:\", x_train.shape)\n",
    "    print(\"Dimensiones de x_val:\", x_val.shape)\n",
    "    print(\"Dimensiones de x_test:\", x_test.shape)\n",
    "\n",
    "    # Verificar las dimensiones\n",
    "    print(\"Dimensiones de x_train_ext:\", x_train_ext.shape)\n",
    "    print(\"Dimensiones de x_val_ext:\", x_val_ext.shape)\n",
    "    print(\"Dimensiones de x_test_ext:\", x_test_ext.shape)\n",
    "\n",
    "    # Conversión a ndarrays de números reales\n",
    "    x_train = np.asarray(x_train).astype(np.float16)\n",
    "    np.save(input_path + 'x_train', x_train)\n",
    "\n",
    "    x_test = np.asarray(x_test).astype(np.float16)\n",
    "    np.save(input_path + 'x_test', x_test)\n",
    "    \n",
    "    x_val = np.asarray(x_val).astype(np.float16)\n",
    "    np.save(input_path + 'x_val', x_val)\n",
    "\n",
    "    # Conversión a ndarrays de números reales\n",
    "    x_train_ext = np.asarray(x_train_ext).astype(np.float16)\n",
    "    np.save(input_path + 'x_train_ext', x_train_ext)\n",
    "\n",
    "    x_test_ext = np.asarray(x_test_ext).astype(np.float16)\n",
    "    np.save(input_path + 'x_test_ext', x_test_ext)\n",
    "    \n",
    "    x_val_ext = np.asarray(x_val_ext).astype(np.float16)\n",
    "    np.save(input_path + 'x_val_ext', x_val_ext)\n",
    "    \n",
    "    y_train = np.asarray(y_train).astype(bool)\n",
    "    y_test = np.asarray(y_test).astype(bool)\n",
    "    y_val = np.asarray(y_val).astype(bool)\n",
    "\n",
    "    y_train_ext = np.asarray(y_train_ext).astype(bool)\n",
    "    y_test_ext = np.asarray(y_test_ext).astype(bool)\n",
    "    y_val_ext = np.asarray(y_val_ext).astype(bool)\n",
    "\n",
    "    # Imagenes\n",
    "    np.save(input_path + 'y_train', y_train)\n",
    "    np.save(input_path + 'y_test', y_test)\n",
    "    np.save(input_path + 'y_val', y_val)\n",
    "\n",
    "    # Factores externos\n",
    "    np.save(input_path + 'y_train_ext', y_train_ext)\n",
    "    np.save(input_path + 'y_test_ext', y_test_ext)\n",
    "    np.save(input_path + 'y_val_ext', y_val_ext)"
   ]
  }
 ],
 "metadata": {
  "kernelspec": {
   "display_name": "Python 3 (ipykernel)",
   "language": "python",
   "name": "python3"
  },
  "language_info": {
   "codemirror_mode": {
    "name": "ipython",
    "version": 3
   },
   "file_extension": ".py",
   "mimetype": "text/x-python",
   "name": "python",
   "nbconvert_exporter": "python",
   "pygments_lexer": "ipython3",
   "version": "3.9.19"
  }
 },
 "nbformat": 4,
 "nbformat_minor": 5
}
