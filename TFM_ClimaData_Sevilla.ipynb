{
 "cells": [
  {
   "cell_type": "code",
   "execution_count": null,
   "id": "01e1659b-e759-4950-ac51-3692f2f3c256",
   "metadata": {},
   "outputs": [],
   "source": [
    "import numpy as np\n",
    "import pandas as pd\n",
    "import os\n",
    "import cv2\n",
    "import sys\n",
    "import timeit\n",
    "import matplotlib.pyplot as plt\n",
    "import seaborn as sns\n",
    "from numpy import asarray \n",
    "from datasets import load_dataset \n",
    "import warnings\n",
    "import csv\n",
    "import random"
   ]
  },
  {
   "cell_type": "code",
   "execution_count": null,
   "id": "3c922678-026a-4b25-b95e-79ef5613affb",
   "metadata": {},
   "outputs": [],
   "source": [
    "meteo_sevilla_complete = pd.read_csv('./Sevilla_Data/Seville San Pablo Airport for 2020.csv', on_bad_lines='skip')"
   ]
  },
  {
   "cell_type": "code",
   "execution_count": null,
   "id": "8a7811aa-fc7e-467b-bde1-eff90285db29",
   "metadata": {},
   "outputs": [],
   "source": [
    "# Convertir la columna 'Taken At (UTC) (ISO 8601)' a formato de fecha y hora\n",
    "meteo_sevilla_complete['Taken At (UTC) (ISO 8601)'] = pd.to_datetime(meteo_sevilla_complete['Taken At (UTC) (ISO 8601)'])\n",
    "\n",
    "# Seleccionar solo las filas donde el año es 2020\n",
    "meteo_sevilla_complete = meteo_sevilla_complete.loc[meteo_sevilla_complete['Taken At (UTC) (ISO 8601)'].dt.year == 2020]\n",
    "\n",
    "# Imprimir el nuevo DataFrame con las filas de 2020\n",
    "meteo_sevilla_complete"
   ]
  },
  {
   "cell_type": "code",
   "execution_count": null,
   "id": "ab0a56bf-0b2d-4645-92f0-fbd3f8787e04",
   "metadata": {},
   "outputs": [],
   "source": [
    "# Get unique values for each column\n",
    "unique_values = {col: meteo_sevilla_complete[col].unique() for col in meteo_sevilla_complete.columns}\n",
    "\n",
    "print(unique_values)"
   ]
  },
  {
   "cell_type": "code",
   "execution_count": null,
   "id": "1bb191e3-fe60-4ba4-8013-a19f89dfb9da",
   "metadata": {},
   "outputs": [],
   "source": [
    "# List the columns\n",
    "columns_list = meteo_sevilla_complete.columns.tolist()\n",
    "\n",
    "print(columns_list)"
   ]
  },
  {
   "cell_type": "code",
   "execution_count": null,
   "id": "b66a2c4d-a76e-42b1-a767-6fda5468207e",
   "metadata": {},
   "outputs": [],
   "source": [
    "# Check for null values\n",
    "null_values = meteo_sevilla_complete.isnull()\n",
    "\n",
    "# Count null values in each column\n",
    "null_counts_per_column = null_values.sum()\n",
    "\n",
    "# Count null values in each row\n",
    "null_counts_per_row = null_values.sum(axis=1)\n",
    "\n",
    "print(\"Null values in each column:\")\n",
    "print(null_counts_per_column)"
   ]
  },
  {
   "cell_type": "code",
   "execution_count": null,
   "id": "2577af4d-0240-464f-a59d-efc76ac63995",
   "metadata": {},
   "outputs": [],
   "source": [
    "# Calculate the sum of null values in each column\n",
    "null_counts_per_column = meteo_sevilla_complete.isnull().sum()\n",
    "\n",
    "# Get the columns where the sum of null values is greater than 20000\n",
    "columns_to_delete = null_counts_per_column[null_counts_per_column > 40000].index.tolist()\n",
    "\n",
    "# Delete the columns\n",
    "meteo_sevilla_complete = meteo_sevilla_complete.drop(columns=columns_to_delete)"
   ]
  },
  {
   "cell_type": "code",
   "execution_count": null,
   "id": "223fdc05-3224-4047-9a0b-fff4d6a11cc3",
   "metadata": {},
   "outputs": [],
   "source": [
    "# Check for null values\n",
    "null_values = meteo_sevilla_complete.isnull()\n",
    "\n",
    "# Count null values in each column\n",
    "null_counts_per_column = null_values.sum()\n",
    "\n",
    "# Count null values in each row\n",
    "null_counts_per_row = null_values.sum(axis=1)\n",
    "\n",
    "print(\"Null values in each column:\")\n",
    "print(null_counts_per_column)"
   ]
  },
  {
   "cell_type": "raw",
   "id": "d21d1510-0ef9-4c83-91df-4d7e2b1e2abe",
   "metadata": {},
   "source": [
    "De todos los parámetros que tenemos, decidimos quedarnos con los siguientes dados que son los que tienen más muestras en el dataset:\n",
    "\n",
    "Temperature (°C)                       2672\n",
    "Dew Point (°C)                         2796\n",
    "Wind Speed (kph)                         27\n",
    "Wind Direction (degrees)               6484\n",
    "Visibility (km)                        5985"
   ]
  },
  {
   "cell_type": "code",
   "execution_count": null,
   "id": "83259bb9-6fc6-43b5-b598-7022a391c438",
   "metadata": {},
   "outputs": [],
   "source": [
    "# Calcula las estadísticas\n",
    "max_temp = meteo_sevilla_complete['Temperature (°C)'].max()\n",
    "min_temp = meteo_sevilla_complete['Temperature (°C)'].min()\n",
    "mean_temp = meteo_sevilla_complete['Temperature (°C)'].mean()\n",
    "median_temp = meteo_sevilla_complete['Temperature (°C)'].median()\n",
    "std_temp = meteo_sevilla_complete['Temperature (°C)'].std()\n",
    "\n",
    "# Imprime las estadísticas\n",
    "print(\"Temperatura máxima:\", max_temp)\n",
    "print(\"Temperatura mínima:\", min_temp)\n",
    "print(\"Temperatura media:\", mean_temp)\n",
    "print(\"Temperatura mediana:\", median_temp)\n",
    "print(\"Desviación estándar de la temperatura:\", std_temp)"
   ]
  },
  {
   "cell_type": "code",
   "execution_count": null,
   "id": "2f026634-abb6-4a02-b6b1-c87aa43b93ec",
   "metadata": {},
   "outputs": [],
   "source": [
    "# Calcula los estadísticos\n",
    "maximo_dew_point = meteo_sevilla_complete['Dew Point (°C)'].max()\n",
    "minimo_dew_point = meteo_sevilla_complete['Dew Point (°C)'].min()\n",
    "media_dew_point = meteo_sevilla_complete['Dew Point (°C)'].mean()\n",
    "mediana_dew_point = meteo_sevilla_complete['Dew Point (°C)'].median()\n",
    "desviacion_estandar_dew_point = meteo_sevilla_complete['Dew Point (°C)'].std()\n",
    "\n",
    "# Imprime los estadísticos\n",
    "print(\"Máximo Dew Point (°C):\", maximo_dew_point)\n",
    "print(\"Mínimo Dew Point (°C):\", minimo_dew_point)\n",
    "print(\"Media Dew Point (°C):\", media_dew_point)\n",
    "print(\"Mediana Dew Point (°C):\", mediana_dew_point)\n",
    "print(\"Desviación estándar Dew Point (°C):\", desviacion_estandar_dew_point)"
   ]
  },
  {
   "cell_type": "code",
   "execution_count": null,
   "id": "9eb427a2-2d6e-41ec-9461-df8c60411b51",
   "metadata": {},
   "outputs": [],
   "source": [
    "# Calcula los estadísticos para la columna 'Wind Speed (kph)'\n",
    "maximo_wind_speed = meteo_sevilla_complete['Wind Speed (kph)'].max()\n",
    "minimo_wind_speed = meteo_sevilla_complete['Wind Speed (kph)'].min()\n",
    "media_wind_speed = meteo_sevilla_complete['Wind Speed (kph)'].mean()\n",
    "mediana_wind_speed = meteo_sevilla_complete['Wind Speed (kph)'].median()\n",
    "desviacion_estandar_wind_speed = meteo_sevilla_complete['Wind Speed (kph)'].std()\n",
    "\n",
    "# Imprime los estadísticos\n",
    "print(\"Máxima Wind Speed (kph):\", maximo_wind_speed)\n",
    "print(\"Mínima Wind Speed (kph):\", minimo_wind_speed)\n",
    "print(\"Media Wind Speed (kph):\", media_wind_speed)\n",
    "print(\"Mediana Wind Speed (kph):\", mediana_wind_speed)\n",
    "print(\"Desviación estándar Wind Speed (kph):\", desviacion_estandar_wind_speed)"
   ]
  },
  {
   "cell_type": "code",
   "execution_count": null,
   "id": "dd57a09d-853e-43ca-921d-d45fd591bce5",
   "metadata": {},
   "outputs": [],
   "source": [
    "# Calcula los estadísticos para la columna 'Wind Direction (degrees)'\n",
    "maximo_wind_direction = meteo_sevilla_complete['Wind Direction (degrees)'].max()\n",
    "minimo_wind_direction = meteo_sevilla_complete['Wind Direction (degrees)'].min()\n",
    "media_wind_direction = meteo_sevilla_complete['Wind Direction (degrees)'].mean()\n",
    "mediana_wind_direction = meteo_sevilla_complete['Wind Direction (degrees)'].median()\n",
    "desviacion_estandar_wind_direction = meteo_sevilla_complete['Wind Direction (degrees)'].std()\n",
    "\n",
    "# Imprime los estadísticos\n",
    "print(\"Máxima Wind Direction (degrees):\", maximo_wind_direction)\n",
    "print(\"Mínima Wind Direction (degrees):\", minimo_wind_direction)\n",
    "print(\"Media Wind Direction (degrees):\", media_wind_direction)\n",
    "print(\"Mediana Wind Direction (degrees):\", mediana_wind_direction)\n",
    "print(\"Desviación estándar Wind Direction (degrees):\", desviacion_estandar_wind_direction)"
   ]
  },
  {
   "cell_type": "code",
   "execution_count": null,
   "id": "95c00fef-6180-49df-93f5-2a3edb853818",
   "metadata": {},
   "outputs": [],
   "source": [
    "# Calcula los estadísticos para la columna 'Visibility (km)'\n",
    "maximo_visibility = meteo_sevilla_complete['Visibility (km)'].max()\n",
    "minimo_visibility = meteo_sevilla_complete['Visibility (km)'].min()\n",
    "media_visibility = meteo_sevilla_complete['Visibility (km)'].mean()\n",
    "mediana_visibility = meteo_sevilla_complete['Visibility (km)'].median()\n",
    "desviacion_estandar_visibility = meteo_sevilla_complete['Visibility (km)'].std()\n",
    "\n",
    "# Imprime los estadísticos\n",
    "print(\"Máxima Visibility (km):\", maximo_visibility)\n",
    "print(\"Mínima Visibility (km):\", minimo_visibility)\n",
    "print(\"Media Visibility (km):\", media_visibility)\n",
    "print(\"Mediana Visibility (km):\", mediana_visibility)\n",
    "print(\"Desviación estándar Visibility (km):\", desviacion_estandar_visibility)"
   ]
  },
  {
   "cell_type": "code",
   "execution_count": null,
   "id": "f6162f36-08a9-49a8-88ab-71236fb3786e",
   "metadata": {},
   "outputs": [],
   "source": [
    "# Contar el número de ocurrencias de cada valor único en la columna 'Cloud Layer Label 1 (String)'\n",
    "conteo_valores = meteo_sevilla_complete['Cloud Layer Label 1 (String)'].value_counts()\n",
    "\n",
    "# Imprimir el número de ocurrencias de cada valor único\n",
    "print(conteo_valores)"
   ]
  },
  {
   "cell_type": "code",
   "execution_count": null,
   "id": "7fb02fcf-cbe6-4bbe-bb5a-ffb381884ca5",
   "metadata": {},
   "outputs": [],
   "source": [
    "df = pd.read_csv('./Sevilla_Data/SolarData_Sevilla.csv',index_col = 0)"
   ]
  },
  {
   "cell_type": "code",
   "execution_count": null,
   "id": "bd7118a1-8bc0-4842-8c88-51f7f98f1687",
   "metadata": {},
   "outputs": [],
   "source": [
    "df"
   ]
  },
  {
   "cell_type": "code",
   "execution_count": null,
   "id": "6c8646d2-cb18-4e84-a0c3-12e1d6e88d81",
   "metadata": {},
   "outputs": [],
   "source": [
    "# Calcular los estadísticos para cada fila\n",
    "maximos = df.max(axis=1)\n",
    "minimos = df.min(axis=1)\n",
    "medias = df.mean(axis=1)\n",
    "medianas = df.median(axis=1)\n",
    "desviaciones_estandar = df.std(axis=1)\n",
    "\n",
    "# Crear un nuevo DataFrame con los estadísticos calculados\n",
    "estadisticas_por_fila = pd.DataFrame({\n",
    "    'Máximo': maximos,\n",
    "    'Mínimo': minimos,\n",
    "    'Media': medias,\n",
    "    'Mediana': medianas,\n",
    "    'Desviación Estándar': desviaciones_estandar\n",
    "})\n",
    "\n",
    "# Mostrar el DataFrame con los estadísticos por fila\n",
    "print(estadisticas_por_fila)"
   ]
  },
  {
   "cell_type": "code",
   "execution_count": null,
   "id": "fa17b37c-e436-4ec2-92cd-d00cdad7382c",
   "metadata": {},
   "outputs": [],
   "source": [
    "#Guardamos el dataset de factores externos\n",
    "estadisticas_por_fila.to_csv('./Sevilla_Data/Sevilla_solar_calcs.csv', index=False)"
   ]
  },
  {
   "cell_type": "code",
   "execution_count": null,
   "id": "cdcd72c4-c697-42d2-8122-93ed82124265",
   "metadata": {},
   "outputs": [],
   "source": []
  }
 ],
 "metadata": {
  "kernelspec": {
   "display_name": "Python 3 (ipykernel)",
   "language": "python",
   "name": "python3"
  },
  "language_info": {
   "codemirror_mode": {
    "name": "ipython",
    "version": 3
   },
   "file_extension": ".py",
   "mimetype": "text/x-python",
   "name": "python",
   "nbconvert_exporter": "python",
   "pygments_lexer": "ipython3",
   "version": "3.9.19"
  }
 },
 "nbformat": 4,
 "nbformat_minor": 5
}
