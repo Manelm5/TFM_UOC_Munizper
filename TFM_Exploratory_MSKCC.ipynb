{
 "cells": [
  {
   "cell_type": "code",
   "execution_count": null,
   "id": "681a69b4-f60f-4ac3-ad50-a6157732640d",
   "metadata": {},
   "outputs": [],
   "source": [
    "import pandas as pd\n",
    "import numpy as np\n",
    "import matplotlib.pyplot as plt\n",
    "import seaborn as sns\n",
    "import os"
   ]
  },
  {
   "cell_type": "markdown",
   "id": "e7323c87-3b89-4b22-9f56-499778374f2b",
   "metadata": {},
   "source": [
    "# Análisis exploratorio + Pre-procesamiento - Dataset MSKCC"
   ]
  },
  {
   "cell_type": "code",
   "execution_count": null,
   "id": "3197591d-7c88-4ebb-99ba-10db5373a2ea",
   "metadata": {},
   "outputs": [],
   "source": [
    "os.makedirs('./ISIC_MSKCC', exist_ok=True)"
   ]
  },
  {
   "cell_type": "code",
   "execution_count": null,
   "id": "bdbeaa2a-2e72-47e6-9eca-383979b5163f",
   "metadata": {},
   "outputs": [],
   "source": [
    "#Leemos el dataset \n",
    "data = pd.read_csv('./ISIC_MSKCC/mskcc-2020-metadata.csv')\n",
    "data"
   ]
  },
  {
   "cell_type": "code",
   "execution_count": null,
   "id": "3229abb4-ead8-4001-ae9e-0ca9a338ac4a",
   "metadata": {},
   "outputs": [],
   "source": [
    "# Eliminamos columnas no necesarias para el análisis\n",
    "columns_to_drop = ['attribution', 'copyright_license', 'clin_size_long_diam_mm', 'concomitant_biopsy', 'diagnosis_confirm_type', 'image_type', 'mel_class', 'mel_mitotic_index', 'mel_thick_mm', 'mel_type', 'mel_ulcer', 'melanocytic']\n",
    "data.drop(columns=columns_to_drop, inplace=True)\n",
    "data = data.dropna()\n",
    "data"
   ]
  },
  {
   "cell_type": "code",
   "execution_count": null,
   "id": "e2089fb3-a1c8-43a2-95e0-ffaf5de13774",
   "metadata": {},
   "outputs": [],
   "source": [
    "for column in data.columns:\n",
    "    unique_values = data[column].unique()\n",
    "    print(f\"Atributo: {column}, Valores únicos: {unique_values}\")"
   ]
  },
  {
   "cell_type": "code",
   "execution_count": null,
   "id": "ca88ab96-278d-483e-9846-ba73eb4784a6",
   "metadata": {},
   "outputs": [],
   "source": [
    "# Comprobación de valores null por columna\n",
    "valores_nulos_por_columna = data.isnull().sum()\n",
    "print(valores_nulos_por_columna)"
   ]
  },
  {
   "cell_type": "code",
   "execution_count": null,
   "id": "29879a56-1249-46f8-ba41-0a22e83e3fcd",
   "metadata": {},
   "outputs": [],
   "source": [
    "# Resumen de información del DataFrame\n",
    "info_df = data.info()\n",
    "print(info_df)"
   ]
  },
  {
   "cell_type": "code",
   "execution_count": null,
   "id": "51bb87c0-3d4f-4c10-86d2-5b18384d22ab",
   "metadata": {},
   "outputs": [],
   "source": [
    "# Eliminamos las muestras de diagnosis que no es posible agrupar por recomendación del dermatólogo\n",
    "data = data[data['diagnosis'] != \"atypical melanocytic proliferation\"]\n",
    "data = data[data['diagnosis'] != \"AIMP\"]\n",
    "data = data[data['diagnosis'] != \"neurofibroma\"]\n",
    "\n",
    "# Mapeamos las localizaciones para que se adecuen al resto de datasets por recomendación del dermatólogo\n",
    "category_mapping = {\n",
    "    'lentigo simplex': 'solar lentigo',\n",
    "    'lentigo NOS': 'solar lentigo',\n",
    "}\n",
    "\n",
    "data['diagnosis'] = data['diagnosis'].replace(category_mapping)\n",
    "\n",
    "data = data[data['diagnosis'] != \"verruca\"]\n",
    "data = data[data['diagnosis'] != \"acrochordon\"]\n",
    "data = data[data['diagnosis'] != \"scar\"]\n",
    "data = data[data['diagnosis'] != \"cafe-au-lait macule\"]\n",
    "data = data[data['diagnosis'] != \"other\"]\n",
    "data = data[data['diagnosis'] != \"angiokeratoma\"]\n",
    "\n",
    "data = data.dropna(subset=['diagnosis'])"
   ]
  },
  {
   "cell_type": "code",
   "execution_count": null,
   "id": "1f59fb58-318e-4350-8182-11e0241445ae",
   "metadata": {},
   "outputs": [],
   "source": [
    "# Realizamos el mapeo final en base a las recomendaciones del dermatólogo\n",
    "diagnosis_mapping = {\n",
    "'nevus': 'nevus',                      \n",
    "'solar lentigo': 'solar lentigo',        \n",
    "'melanoma': 'melanoma',                   \n",
    "'lichenoid keratosis': 'keratosis',        \n",
    "'seborrheic keratosis': 'keratosis',\n",
    "'actinic keratosis': 'keratosis',\n",
    "'vascular lesion': 'vascular lesion',             \n",
    "'dermatofibroma': 'dermatofibroma',\n",
    "'basal cell carcinoma':'carcinoma',\n",
    "'squamous cell carcinoma':'carcinoma'\n",
    "}  \n",
    "\n",
    "data['diagnosis'] = data['diagnosis'].replace(diagnosis_mapping)"
   ]
  },
  {
   "cell_type": "code",
   "execution_count": null,
   "id": "6b8bbb20-f2f2-4c89-a1ef-8bfba4417788",
   "metadata": {},
   "outputs": [],
   "source": [
    "# Comprobamos los nuevos valores de la columna diagnosis\n",
    "unique_values = data['diagnosis'].unique()\n",
    "unique_values"
   ]
  },
  {
   "cell_type": "code",
   "execution_count": null,
   "id": "16f63c00-3e55-458c-8ca1-920c987eff33",
   "metadata": {},
   "outputs": [],
   "source": [
    "count_data = data['diagnosis'].value_counts().reset_index()\n",
    "count_data.columns = ['diagnosis', 'Count']\n",
    "ax = sns.barplot(data=count_data, x='Count', y='diagnosis', hue='diagnosis', dodge=False, legend=False)\n",
    "plt.xlabel('Número de pacientes')\n",
    "plt.ylabel('Diagnóstico')\n",
    "plt.title('Pacientes según el tipo de diagnóstico')\n",
    "plt.show()"
   ]
  },
  {
   "cell_type": "code",
   "execution_count": null,
   "id": "bdfb2501-db4a-4c77-ab1d-7ac6fb83fde0",
   "metadata": {},
   "outputs": [],
   "source": [
    "# Contamos los valores de 'age_approx', incluyendo NaN\n",
    "pvc = data['age_approx'].value_counts(dropna=False)\n",
    "edad_data = data.dropna(subset=['age_approx'])"
   ]
  },
  {
   "cell_type": "code",
   "execution_count": null,
   "id": "40e22544-9659-4380-88c2-6488e7be657c",
   "metadata": {},
   "outputs": [],
   "source": [
    "# Imprimimos la cantidad de pacientes sin 'age_approx' informada y su porcentaje\n",
    "age_min = data[\"age_approx\"].min()\n",
    "age_max = data[\"age_approx\"].max()\n",
    "age_mean = data[\"age_approx\"].mean()\n",
    "age_std = data[\"age_approx\"].std()\n",
    "\n",
    "print(\"Estadísticas de edad de los pacientes:\")\n",
    "print(f\"Mínimo: {age_min}\")\n",
    "print(f\"Máximo: {age_max}\")\n",
    "print(f\"Media: {age_mean}\")\n",
    "print(f\"Desviación estándar: {age_std}\")\n",
    "\n",
    "sns.set(style=\"whitegrid\", palette=\"pastel\")\n",
    "sns.histplot(data=data, x='age_approx', bins=30, kde=True, color='#6AB7F9')\n",
    "plt.xlabel('Edad Aproximada')\n",
    "plt.ylabel('Número de Pacientes')\n",
    "plt.title('Distribución de Edades de los Pacientes')\n",
    "plt.show()"
   ]
  },
  {
   "cell_type": "code",
   "execution_count": null,
   "id": "425aee2a-2a4d-414a-9d5c-0c1015a82084",
   "metadata": {},
   "outputs": [],
   "source": [
    "# Filtramos datos por género\n",
    "female_px = data[data.sex == 'female']\n",
    "male_px = data[data.sex == 'male']\n",
    "\n",
    "# Configuramos estilo y paleta de colores de Seaborn\n",
    "sns.set(style=\"whitegrid\", palette=\"pastel\")\n",
    "\n",
    "# Creamos histogramas separados por género\n",
    "sns.histplot(data=female_px, x='age_approx', color='#FABCB7', label='mujer', kde=True)\n",
    "sns.histplot(data=male_px, x='age_approx', color='#B7D5FA', label='hombre', kde=True)\n",
    "\n",
    "plt.xlabel('Edad Aproximada')\n",
    "plt.ylabel('Número de Pacientes')\n",
    "plt.title('Distribución de Edades de los Pacientes por Género')\n",
    "plt.legend()\n",
    "plt.show()"
   ]
  },
  {
   "cell_type": "code",
   "execution_count": null,
   "id": "63446311-712a-4b8c-8c49-481ab969ae62",
   "metadata": {},
   "outputs": [],
   "source": [
    "count_data = data['benign_malignant'].value_counts().reset_index()\n",
    "count_data.columns = ['Diagnosis', 'Count']\n",
    "\n",
    "# Count de casos benignos y malignos\n",
    "num_benign = count_data[count_data['Diagnosis'] == 'benign']['Count'].values[0]\n",
    "num_malignant = count_data[count_data['Diagnosis'] == 'malignant']['Count'].values[0]\n",
    "\n",
    "ax = sns.barplot(data=count_data, x='Diagnosis', y='Count', hue='Diagnosis', dodge=False, legend=False)\n",
    "plt.xlabel('Tipo')\n",
    "plt.ylabel('Count')\n",
    "plt.title('Ratio de benigno versus maligno\\nBenignos: {} | Malignos: {}'.format(num_benign, num_malignant))\n",
    "plt.show()"
   ]
  },
  {
   "cell_type": "code",
   "execution_count": null,
   "id": "aa8e2c50-fe3c-4a47-90e7-c95c277999c4",
   "metadata": {},
   "outputs": [],
   "source": [
    "#Eliminamos las muestras de tipo indeterminate\n",
    "data = data[data['benign_malignant'] != \"indeterminate\"]"
   ]
  },
  {
   "cell_type": "code",
   "execution_count": null,
   "id": "830da06d-96d7-4b92-91c8-083e1bff48e7",
   "metadata": {},
   "outputs": [],
   "source": [
    "fig, ax = plt.subplots(figsize=(20,10))\n",
    "ax = sns.countplot(x='diagnosis', hue='anatom_site_general', data=data, palette='pastel')\n",
    "for i,v in enumerate(data.anatom_site_general.unique()):\n",
    "  try:\n",
    "    ax.bar_label(ax.containers[i])\n",
    "  except:\n",
    "    continue\n",
    "\n",
    "# Ajuste de las etiquetas del eje x para evitar solapamientos\n",
    "plt.xticks(rotation=45, ha='right')\n",
    "\n",
    "# Muestra el gráfico\n",
    "plt.tight_layout()\n",
    "plt.show()"
   ]
  },
  {
   "cell_type": "code",
   "execution_count": null,
   "id": "d32ff0c2-b5a3-42c1-a7d8-78588ac1a427",
   "metadata": {},
   "outputs": [],
   "source": [
    "# Categorizamos las variables para poder utilizarlas en el modelo \n",
    "sex_mapping = {'male': 0, 'female': 1}\n",
    "\n",
    "diagnosis_mapping = {'nevus': 0,                      \n",
    "'basal cell carcinoma': 1,        \n",
    "'melanoma': 2,                   \n",
    "'squamous cell carcinoma': 3,    \n",
    "'seborrheic keratosis': 4,        \n",
    "'actinic keratosis': 5,           \n",
    "'vascular lesion': 6,             \n",
    "'dermatofibroma': 7,              \n",
    "'solar lentigo': 8,               \n",
    "'lichenoid keratosis': 9 }  \n",
    "\n",
    "benign_malignant_mapping = {'benign': 0, 'malignant': 1}\n",
    "\n",
    "anatom_site_general_mapping = {\n",
    "'head/neck': 0,          \n",
    "'posterior torso': 1,    \n",
    "'lower extremity': 2,  \n",
    "'anterior torso': 3,   \n",
    "'upper extremity': 4,    \n",
    "'palms/soles': 5,         \n",
    "'lateral torso': 6,        \n",
    "'oral/genital': 7 }  \n",
    "\n",
    "data['sex'] = data['sex'].replace(sex_mapping)\n",
    "\n",
    "data.rename(columns={'age_approx': 'age'}, inplace=True)\n",
    "data.rename(columns={'isic_id': 'id'}, inplace=True)\n",
    "\n",
    "data['age'] = data['age'].astype(int)\n",
    "data['sex'] = data['sex'].astype(int)"
   ]
  },
  {
   "cell_type": "code",
   "execution_count": null,
   "id": "af105c4a-69ab-466d-b62c-c143fe47b196",
   "metadata": {},
   "outputs": [],
   "source": [
    "data"
   ]
  },
  {
   "cell_type": "code",
   "execution_count": null,
   "id": "f5596db9-3a26-42e6-b074-36be0f562b18",
   "metadata": {},
   "outputs": [],
   "source": [
    "# Ahora obtenemos una lista de los nombres de archivos correspondientes a las imágenes dermoscópicas\n",
    "archivos_dermoscopic = data['id'].tolist()\n",
    "archivos_dermoscopic = [id + \".JPG\" for id in archivos_dermoscopic]\n",
    "\n",
    "# Ruta de la carpeta que contiene todas las imágenes\n",
    "carpeta = './ISIC_MSKCC/Dataset/'\n",
    "\n",
    "# Obtenemos una lista de todos los archivos en la carpeta\n",
    "archivos_totales = os.listdir(carpeta)"
   ]
  },
  {
   "cell_type": "code",
   "execution_count": null,
   "id": "70e493c8-f600-48b6-8850-37bcb81a1de3",
   "metadata": {},
   "outputs": [],
   "source": [
    "len(archivos_totales)"
   ]
  },
  {
   "cell_type": "code",
   "execution_count": null,
   "id": "dec77519-7f0c-46c1-bba6-dca22d7e9747",
   "metadata": {},
   "outputs": [],
   "source": [
    "import shutil \n",
    "\n",
    "# Si el archivo no es imagen dermatoscopica y existe lo eliminamos de la carpeta de imágenes\n",
    "for archivo in archivos_totales:\n",
    "    if archivo not in archivos_dermoscopic:\n",
    "        ruta_completa = os.path.join(carpeta, archivo)\n",
    "        if os.path.isfile(ruta_completa):\n",
    "            os.remove(ruta_completa)\n",
    "    else:\n",
    "        # Obtenemos la fila específica del dataset para el archivo actual\n",
    "        nombre_sin_extension, extension = os.path.splitext(archivo)\n",
    "        fila_especifica = data.loc[data['id'] == nombre_sin_extension]\n",
    "\n",
    "        # Obtenemos la etiqueta de la fila\n",
    "        etiqueta = fila_especifica['benign_malignant'].values[0]  # Asumiendo que 'benign_malignant' es el nombre de la columna\n",
    "        \n",
    "        # Movemos el archivo según la etiqueta\n",
    "        if etiqueta == 'benign':\n",
    "            shutil.copy(os.path.join(carpeta, archivo), \"./ISIC_MSKCC/Dataset/Benigno/\")\n",
    "        elif etiqueta == 'malignant':\n",
    "            shutil.copy(os.path.join(carpeta, archivo), \"./ISIC_MSKCC/Dataset/Maligno/\")"
   ]
  },
  {
   "cell_type": "code",
   "execution_count": null,
   "id": "b8ecd364-7cd1-4d04-87c6-35c7def47f9a",
   "metadata": {},
   "outputs": [],
   "source": [
    "data['benign_malignant'] = data['benign_malignant'].replace(benign_malignant_mapping)"
   ]
  },
  {
   "cell_type": "code",
   "execution_count": null,
   "id": "50203a01-081a-432f-bdf3-113a231779a2",
   "metadata": {},
   "outputs": [],
   "source": [
    "# Añadimos los factores climatoloógicos obtenidos anteriormente al conjunto\n",
    "\n",
    "# Temperatura\n",
    "data['max_temp'] = 35.6\n",
    "data['min_tmp'] = -10.6\n",
    "data['mean_temp'] = 14.107562061212317\n",
    "data['median_temp'] = 13.3\n",
    "data['std_temp'] = 9.280232012833446\n",
    "\n",
    "# Dew Point\n",
    "data['max_dew_point'] = 25.0\n",
    "data['min_dew_point'] = -21.1\n",
    "data['mean_dew_point'] = 7.030652044234388\n",
    "data['median_dew_point'] = 7.2\n",
    "data['std_dew_point'] = 10.173613161292261\n",
    "\n",
    "# Wind Speed\n",
    "data['max_wind_speed'] = 79.64\n",
    "data['min_wind_speed'] = 0\n",
    "data['mean_wind_speed'] = 15.061415124661371\n",
    "data['median_wind_speed'] = 12.96\n",
    "data['std_wind_speed'] = 9.084550968803933\n",
    "\n",
    "# Wind Direction\n",
    "data['max_wind_direction'] = 360.0\n",
    "data['min_wind_direction'] = 10.0\n",
    "data['mean_wind_direction'] = 197.2095875709102\n",
    "data['median_wind_direction'] = 220.0\n",
    "data['std_wind_direction'] = 102.91723691970225\n",
    "\n",
    "# Visibility\n",
    "data['max_visibility'] = 16.09\n",
    "data['min_visibility'] = 0.0\n",
    "data['mean_visibility'] = 14.458736634390345\n",
    "data['median_visibility'] = 16.09\n",
    "data['std_visibility'] = 3.84142673414594"
   ]
  },
  {
   "cell_type": "code",
   "execution_count": null,
   "id": "e592c052-b3ed-4b12-b40a-5cffb31e7497",
   "metadata": {},
   "outputs": [],
   "source": [
    "# Leemos el nuevo dataset de calculos solares\n",
    "data_calcs = pd.read_csv('./ISIC_MSKCC/MSKCC_solar_calcs.csv')\n",
    "data_calcs"
   ]
  },
  {
   "cell_type": "code",
   "execution_count": null,
   "id": "35bd0129-eaa2-4b3d-924e-e178ece9b081",
   "metadata": {},
   "outputs": [],
   "source": [
    "# Transformamos el nuevo dataset para obtener una estructura entendible y facilmente iterable \n",
    "variables = [\n",
    "    \"ALLSKY_KT\",\n",
    "    \"CLOUD_AMT\",\n",
    "    \"TOA_SW_DWN\",\n",
    "    \"ALLSKY_SFC_UVA\",\n",
    "    \"ALLSKY_SFC_UVB\",\n",
    "    \"ALLSKY_SRF_ALB\",\n",
    "    \"ALLSKY_SFC_SW_DNI\",\n",
    "    \"ALLSKY_SFC_SW_DWN\",\n",
    "    \"ALLSKY_SFC_PAR_TOT\",\n",
    "    \"ALLSKY_SFC_SW_DIFF\"\n",
    "]\n",
    "\n",
    "columns = [\n",
    "    \"max\",\n",
    "    \"min\",\n",
    "    \"mean\",\n",
    "    \"median\",\n",
    "    \"std\",\n",
    "]\n",
    "\n",
    "data_calcs.index = variables\n",
    "data_calcs.columns = columns\n",
    "\n",
    "data_calcs"
   ]
  },
  {
   "cell_type": "code",
   "execution_count": null,
   "id": "9f8a6f08-eb6c-4a0a-a6b9-c41a4408eb3f",
   "metadata": {},
   "outputs": [],
   "source": [
    "# Introducimos los nuevos datos al dataset original\n",
    "for index, row in data_calcs.iterrows():\n",
    "    nombre = row.name  \n",
    "    for columna in data_calcs.columns:\n",
    "        estadistica = columna  \n",
    "        nuevo_nombre_columna = f\"{nombre}_{estadistica}\" \n",
    "        data[nuevo_nombre_columna] = row[columna]"
   ]
  },
  {
   "cell_type": "code",
   "execution_count": null,
   "id": "96c08e41-f6b2-4e6c-aba0-5cef7d409f3f",
   "metadata": {},
   "outputs": [],
   "source": [
    "data"
   ]
  },
  {
   "cell_type": "code",
   "execution_count": null,
   "id": "d9dda097-9fe7-4d9b-a42f-7e753b40cedb",
   "metadata": {},
   "outputs": [],
   "source": [
    "# Guardamos nuestro dataset procesado para el entrenamiento\n",
    "data.to_csv('./ISIC_MSKCC/final_metadata_MSKCC.csv', index=False)"
   ]
  }
 ],
 "metadata": {
  "kernelspec": {
   "display_name": "Python 3 (ipykernel)",
   "language": "python",
   "name": "python3"
  },
  "language_info": {
   "codemirror_mode": {
    "name": "ipython",
    "version": 3
   },
   "file_extension": ".py",
   "mimetype": "text/x-python",
   "name": "python",
   "nbconvert_exporter": "python",
   "pygments_lexer": "ipython3",
   "version": "3.9.19"
  }
 },
 "nbformat": 4,
 "nbformat_minor": 5
}
