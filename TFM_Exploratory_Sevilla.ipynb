{
 "cells": [
  {
   "cell_type": "code",
   "execution_count": null,
   "id": "1e8fe15a-7393-4632-8920-3f7276e64017",
   "metadata": {},
   "outputs": [],
   "source": [
    "import pandas as pd\n",
    "import numpy as np\n",
    "import matplotlib.pyplot as plt\n",
    "import seaborn as sns\n",
    "import os"
   ]
  },
  {
   "cell_type": "markdown",
   "id": "adca279d-cb42-4ae6-9791-fa3708ef5b63",
   "metadata": {},
   "source": [
    "# Análisis exploratorio + Pre-procesamiento - Dataset Sevilla"
   ]
  },
  {
   "cell_type": "code",
   "execution_count": null,
   "id": "332affd5-1c63-4c80-8c5a-83f461e7fbb7",
   "metadata": {},
   "outputs": [],
   "source": [
    "# Variable que dictamina si la nomenclatura de las imagenes debe ser tratada \n",
    "PROCESAR_IMAGENES_NAME = False "
   ]
  },
  {
   "cell_type": "code",
   "execution_count": null,
   "id": "95d317d1-3b23-440e-a603-d87c7d2fd546",
   "metadata": {},
   "outputs": [],
   "source": [
    "if PROCESAR_IMAGENES_NAME == True:\n",
    "    # Carpeta principal que contiene las subcarpetas con las fotos\n",
    "    carpeta_principal = \"./Sevilla_Data/ENTRENAMIENTO HUVR/\"\n",
    "    contador = 1    \n",
    "    # Recorremos recursivamente todas las subcarpetas\n",
    "    for ruta_actual, carpetas, archivos in os.walk(carpeta_principal):\n",
    "        # Iteramos sobre cada archivo en la carpeta actual\n",
    "        for archivo in archivos:\n",
    "            # Creamos el nuevo nombre del archivo\n",
    "            nuevo_nombre = f\"Sevilla_{contador}.jpg\" \n",
    "            \n",
    "            # Ruta completa del archivo antiguo y nuevo\n",
    "            ruta_antigua = os.path.join(ruta_actual, archivo)\n",
    "            ruta_nueva = os.path.join(ruta_actual, nuevo_nombre)\n",
    "            \n",
    "            os.rename(ruta_antigua, ruta_nueva)\n",
    "            contador += 1"
   ]
  },
  {
   "cell_type": "code",
   "execution_count": null,
   "id": "bf85e941-08d4-4c91-b25e-3ee703620eb9",
   "metadata": {},
   "outputs": [],
   "source": [
    "# Función para obtener el nombre de los archivos y sus categorías\n",
    "def obtener_archivos_y_categorias(ruta):\n",
    "    archivos_y_categorias = []\n",
    "    for categoria in os.listdir(ruta):\n",
    "        categoria_ruta = os.path.join(ruta, categoria)\n",
    "        if os.path.isdir(categoria_ruta):\n",
    "            for archivo in os.listdir(categoria_ruta):\n",
    "                archivo_ruta = os.path.join(categoria_ruta, archivo)\n",
    "                if os.path.isfile(archivo_ruta):\n",
    "                    archivos_y_categorias.append((archivo.rstrip('.jpg'), categoria))\n",
    "    return archivos_y_categorias"
   ]
  },
  {
   "cell_type": "code",
   "execution_count": null,
   "id": "1daf1da0-3a44-48cd-995f-ba6ed686909b",
   "metadata": {},
   "outputs": [],
   "source": [
    "# Ruta de la carpeta que contiene las categorías\n",
    "ruta_carpeta = \"D:\\TFM\\Codigo\\Sevilla_Data\\ENTRENAMIENTO HUVR\"\n",
    "\n",
    "archivos_y_categorias = obtener_archivos_y_categorias(ruta_carpeta)\n",
    "\n",
    "# Creamos un DataFrame con los datos\n",
    "data = pd.DataFrame(archivos_y_categorias, columns=['id', 'diagnosis'])\n",
    "print(data)"
   ]
  },
  {
   "cell_type": "code",
   "execution_count": null,
   "id": "1da69992-6f91-4e4c-8e4b-671802f21b96",
   "metadata": {},
   "outputs": [],
   "source": [
    "# Configuramos estilo y paleta de colores de Seaborn\n",
    "sns.set(style=\"whitegrid\", palette=\"pastel\")\n",
    "\n",
    "count_data = data['diagnosis'].value_counts().reset_index()\n",
    "count_data.columns = ['diagnosis', 'Count']\n",
    "ax = sns.barplot(data=count_data, x='Count', y='diagnosis', hue='diagnosis', dodge=False, legend=False)\n",
    "\n",
    "# Añade etiquetas y título\n",
    "plt.xlabel('Muestras')\n",
    "plt.ylabel('Diagnóstico')\n",
    "plt.title('Muestras según el tipo de diagnóstico')\n",
    "plt.show()"
   ]
  },
  {
   "cell_type": "code",
   "execution_count": null,
   "id": "ce23743a-0711-438e-8e0e-532fa674413f",
   "metadata": {},
   "outputs": [],
   "source": [
    "# Definimos una función para asignar los valores benigno/maligno según los valores de la columna categórica\n",
    "def asignar_etiqueta(valor):\n",
    "    if valor in ['melanoma', 'carcinoma']:\n",
    "        return '1'\n",
    "    else:\n",
    "        return '0'"
   ]
  },
  {
   "cell_type": "code",
   "execution_count": null,
   "id": "cae35f2b-aff3-4293-b5bd-8ad06495011f",
   "metadata": {},
   "outputs": [],
   "source": [
    "data['benign_malignant'] = data['diagnosis'].apply(asignar_etiqueta)"
   ]
  },
  {
   "cell_type": "code",
   "execution_count": null,
   "id": "ec6b6b7f-451e-49ea-804d-bd9c9005f0eb",
   "metadata": {},
   "outputs": [],
   "source": [
    "data"
   ]
  },
  {
   "cell_type": "code",
   "execution_count": null,
   "id": "b454eb81-566d-49ee-8dc9-791cb36dd081",
   "metadata": {},
   "outputs": [],
   "source": [
    "count_data = data['benign_malignant'].value_counts().reset_index()\n",
    "count_data.columns = ['Diagnosis', 'Count']\n",
    "\n",
    "# Count de casos benignos y malignos\n",
    "num_benign = count_data[count_data['Diagnosis'] == '0']['Count'].values[0]\n",
    "num_malignant = count_data[count_data['Diagnosis'] == '1']['Count'].values[0]\n",
    "\n",
    "ax = sns.barplot(data=count_data, x='Diagnosis', y='Count', hue='Diagnosis', dodge=False, legend=False)\n",
    "plt.xlabel('Tipo')\n",
    "plt.ylabel('Count')\n",
    "plt.title('Ratio de benigno versus maligno\\nBenignos: {} | Malignos: {}'.format(num_benign, num_malignant))\n",
    "plt.show()"
   ]
  },
  {
   "cell_type": "code",
   "execution_count": null,
   "id": "8eb0f770-e642-4302-ab6b-68a9ef1a9710",
   "metadata": {},
   "outputs": [],
   "source": [
    "# Añadimos los factores climatoloógicos obtenidos anteriormente al conjunto\n",
    "\n",
    "#Temperatura\n",
    "data['max_temp'] = 42.6\n",
    "data['min_tmp'] = 0.8\n",
    "data['mean_temp'] = 19.064186438636636\n",
    "data['median_temp'] = 18\n",
    "data['std_temp'] = 7.413991121799422\n",
    "\n",
    "#Dew Point\n",
    "data['max_dew_point'] = 23.5\n",
    "data['min_dew_point'] = -5.7\n",
    "data['mean_dew_point'] = 11.278210238940833\n",
    "data['median_dew_point'] = 12.0\n",
    "data['std_dew_point'] = 4.186711966042453\n",
    "\n",
    "#Wind Speed\n",
    "data['max_wind_speed'] = 55.44\n",
    "data['min_wind_speed'] = 0.0\n",
    "data['mean_wind_speed'] = 9.833168251811594\n",
    "data['median_wind_speed'] = 9.26\n",
    "data['std_wind_speed'] = 6.915781571727125\n",
    "\n",
    "#Wind Direction\n",
    "data['max_wind_direction'] = 360.0\n",
    "data['min_wind_direction'] = 10.0\n",
    "data['mean_wind_direction'] = 169.82415192425006\n",
    "data['median_wind_direction'] = 200.0\n",
    "data['std_wind_direction'] = 95.9660244878841\n",
    "\n",
    "#Visibility\n",
    "data['max_visibility'] = 30.0\n",
    "data['min_visibility'] = 0.0\n",
    "data['mean_visibility'] = 10.770878488037276\n",
    "data['median_visibility'] = 10.0\n",
    "data['std_visibility'] = 4.90348844228675"
   ]
  },
  {
   "cell_type": "code",
   "execution_count": null,
   "id": "0256a0f3-a7be-4c56-a22f-5ca27f2cfa61",
   "metadata": {},
   "outputs": [],
   "source": [
    "nan_check = data.isna().any().any()\n",
    "\n",
    "if nan_check:\n",
    "    print(\"Hay valores NaN en el DataFrame.\")\n",
    "else:\n",
    "    print(\"No hay valores NaN en el DataFrame.\")"
   ]
  },
  {
   "cell_type": "code",
   "execution_count": null,
   "id": "1899cf3b-3fc4-47dc-a7d8-04f1b0e0a97b",
   "metadata": {},
   "outputs": [],
   "source": [
    "# Leemos el nuevo dataset de calculos solares\n",
    "data_calcs = pd.read_csv('./Sevilla_Data/Sevilla_solar_calcs.csv')\n",
    "data_calcs"
   ]
  },
  {
   "cell_type": "code",
   "execution_count": null,
   "id": "3c923e55-1d9b-4d9f-8543-18e8a14d6a32",
   "metadata": {},
   "outputs": [],
   "source": [
    "# Transformamos el nuevo dataset para obtener una estructura entendible y facilmente iterable \n",
    "variables = [\n",
    "    \"ALLSKY_KT\",\n",
    "    \"CLOUD_AMT\",\n",
    "    \"TOA_SW_DWN\",\n",
    "    \"ALLSKY_SFC_UVA\",\n",
    "    \"ALLSKY_SFC_UVB\",\n",
    "    \"ALLSKY_SRF_ALB\",\n",
    "    \"ALLSKY_SFC_SW_DNI\",\n",
    "    \"ALLSKY_SFC_SW_DWN\",\n",
    "    \"ALLSKY_SFC_PAR_TOT\",\n",
    "    \"ALLSKY_SFC_SW_DIFF\"\n",
    "]\n",
    "\n",
    "columns = [\n",
    "    \"max\",\n",
    "    \"min\",\n",
    "    \"mean\",\n",
    "    \"median\",\n",
    "    \"std\",\n",
    "]\n",
    "\n",
    "data_calcs.index = variables\n",
    "data_calcs.columns = columns\n",
    "\n",
    "data_calcs"
   ]
  },
  {
   "cell_type": "code",
   "execution_count": null,
   "id": "e6523088-667e-42de-8cce-d725aa69cf66",
   "metadata": {},
   "outputs": [],
   "source": [
    "# Introducimos los nuevos datos al dataset original\n",
    "for index, row in data_calcs.iterrows():\n",
    "    nombre = row.name  \n",
    "    for columna in data_calcs.columns:\n",
    "        estadistica = columna  \n",
    "        nuevo_nombre_columna = f\"{nombre}_{estadistica}\"  \n",
    "        data[nuevo_nombre_columna] = row[columna]"
   ]
  },
  {
   "cell_type": "code",
   "execution_count": null,
   "id": "f0dd0313-163e-490d-93ff-762f7818ac33",
   "metadata": {},
   "outputs": [],
   "source": [
    "data"
   ]
  },
  {
   "cell_type": "code",
   "execution_count": null,
   "id": "db17beb3-fcb1-4e32-bd6a-e5fc4466a409",
   "metadata": {},
   "outputs": [],
   "source": [
    "#Guardamos el dataset de factores externos\n",
    "data.to_csv('./Sevilla_Data/final_metadata_Sevilla.csv', index=False)"
   ]
  }
 ],
 "metadata": {
  "kernelspec": {
   "display_name": "Python 3 (ipykernel)",
   "language": "python",
   "name": "python3"
  },
  "language_info": {
   "codemirror_mode": {
    "name": "ipython",
    "version": 3
   },
   "file_extension": ".py",
   "mimetype": "text/x-python",
   "name": "python",
   "nbconvert_exporter": "python",
   "pygments_lexer": "ipython3",
   "version": "3.9.19"
  }
 },
 "nbformat": 4,
 "nbformat_minor": 5
}
