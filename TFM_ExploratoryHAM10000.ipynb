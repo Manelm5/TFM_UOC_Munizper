{
 "cells": [
  {
   "cell_type": "code",
   "execution_count": null,
   "id": "5316acc9-b528-47ee-b0d1-cb83e3321c20",
   "metadata": {},
   "outputs": [],
   "source": [
    "import pandas as pd\n",
    "import numpy as np\n",
    "import matplotlib.pyplot as plt\n",
    "import seaborn as sns\n",
    "import os"
   ]
  },
  {
   "cell_type": "markdown",
   "id": "89195687-6099-40be-881a-b7f5cc9b95c4",
   "metadata": {},
   "source": [
    "# Análisis exploratorio + Pre-procesamiento - Dataset HAM10000"
   ]
  },
  {
   "cell_type": "code",
   "execution_count": null,
   "id": "3e5b8206-4074-4b84-b356-d554f8889aee",
   "metadata": {},
   "outputs": [],
   "source": [
    "os.makedirs('./ISIC_HAM10000', exist_ok=True)"
   ]
  },
  {
   "cell_type": "code",
   "execution_count": null,
   "id": "fd9a52b2-94fd-46b7-8688-1b67383ffa91",
   "metadata": {},
   "outputs": [],
   "source": [
    "data = pd.read_csv('./ISIC_HAM10000/HAM10000_metadata.csv')\n",
    "data"
   ]
  },
  {
   "cell_type": "code",
   "execution_count": null,
   "id": "5cf83be1-387b-425c-9ee3-4fe74435cdd0",
   "metadata": {},
   "outputs": [],
   "source": [
    "# Eliminamos columnas no necesarias para el análisis\n",
    "columnas_a_eliminar = ['lesion_id', 'dx_type']  \n",
    "data = data.drop(columns=columnas_a_eliminar)\n",
    "data = data.dropna()"
   ]
  },
  {
   "cell_type": "code",
   "execution_count": null,
   "id": "b747c5f0-3526-40a2-a630-4e981977759a",
   "metadata": {},
   "outputs": [],
   "source": [
    "for column in data.columns:\n",
    "    unique_values = data[column].unique()\n",
    "    print(f\"Atributo: {column}, Valores únicos: {unique_values}\")"
   ]
  },
  {
   "cell_type": "code",
   "execution_count": null,
   "id": "cd08fd77-30c3-4da8-a116-1c0b55366181",
   "metadata": {},
   "outputs": [],
   "source": [
    "# Comprobación de valores null por columna\n",
    "valores_nulos_por_columna = data.isnull().sum()\n",
    "print(valores_nulos_por_columna)"
   ]
  },
  {
   "cell_type": "code",
   "execution_count": null,
   "id": "dbd05d58-7272-4925-8022-70355be17e39",
   "metadata": {},
   "outputs": [],
   "source": [
    "info_df = data.info()\n",
    "print(info_df)"
   ]
  },
  {
   "cell_type": "code",
   "execution_count": null,
   "id": "3ec6abe6-c8c4-4ec3-b738-379fbd1c3774",
   "metadata": {},
   "outputs": [],
   "source": [
    "# Remapeo de las variables del atributo 'diagnosis' para estandarizarlo con el resto de grupos\n",
    "diagnosis_mapping = {\n",
    "'nv': 'nevus',                      \n",
    "'bcc': 'carcinoma',        \n",
    "'mel': 'melanoma',                   \n",
    "'bkl': 'keratosis',        \n",
    "'akiec': 'carcinoma',           \n",
    "'vasc': 'vascular lesion',             \n",
    "'df': 'dermatofibroma',              \n",
    "}  \n",
    "\n",
    "data.rename(columns={'dx': 'diagnosis'}, inplace=True)\n",
    "data['diagnosis'] = data['diagnosis'].replace(diagnosis_mapping)"
   ]
  },
  {
   "cell_type": "code",
   "execution_count": null,
   "id": "a22772bb-519c-41b3-b83a-b963b21c2fbc",
   "metadata": {},
   "outputs": [],
   "source": [
    "count_data = data['diagnosis'].value_counts().reset_index()\n",
    "count_data.columns = ['diagnosis', 'Count']\n",
    "ax = sns.barplot(data=count_data, x='Count', y='diagnosis', hue='diagnosis', dodge=False, legend=False)\n",
    "plt.xlabel('Número de pacientes')\n",
    "plt.ylabel('Diagnóstico')\n",
    "plt.title('Pacientes según el tipo de diagnóstico')\n",
    "plt.show()"
   ]
  },
  {
   "cell_type": "code",
   "execution_count": null,
   "id": "48b106bf-b7d1-4674-9455-0f58e50a501b",
   "metadata": {},
   "outputs": [],
   "source": [
    "# Contamos los valores de 'age_approx', incluyendo NaN\n",
    "pvc = data['age'].value_counts(dropna=False)\n",
    "#edad_data = data.dropna(subset=['age'])"
   ]
  },
  {
   "cell_type": "code",
   "execution_count": null,
   "id": "9d25461b-45d5-4ca8-b8e3-64846702d1d4",
   "metadata": {},
   "outputs": [],
   "source": [
    "age_min = data[\"age\"].min()\n",
    "age_max = data[\"age\"].max()\n",
    "age_mean = data[\"age\"].mean()\n",
    "age_std = data[\"age\"].std()\n",
    "\n",
    "print(\"Estadísticas de edad de los pacientes:\")\n",
    "print(f\"Mínimo: {age_min}\")\n",
    "print(f\"Máximo: {age_max}\")\n",
    "print(f\"Media: {age_mean}\")\n",
    "print(f\"Desviación estándar: {age_std}\")\n",
    "\n",
    "sns.set(style=\"whitegrid\", palette=\"pastel\")\n",
    "sns.histplot(data=data, x='age', bins=30, kde=True, color='#6AB7F9')\n",
    "plt.xlabel('Edad Aproximada')\n",
    "plt.ylabel('Número de Pacientes')\n",
    "plt.title('Distribución de Edades de los Pacientes')\n",
    "plt.show()"
   ]
  },
  {
   "cell_type": "code",
   "execution_count": null,
   "id": "7e855701-9163-457d-9d55-df962c4444b9",
   "metadata": {},
   "outputs": [],
   "source": [
    "# Filtramos datos por género\n",
    "female_px = data[data.sex == 'female']\n",
    "male_px = data[data.sex == 'male']\n",
    "\n",
    "# Configuramos estilo y paleta de colores de Seaborn\n",
    "sns.set(style=\"whitegrid\", palette=\"pastel\")\n",
    "\n",
    "# Creamos histogramas separados por género\n",
    "sns.histplot(data=female_px, x='age', color='#FABCB7', label='mujer', kde=True)\n",
    "sns.histplot(data=male_px, x='age', color='#B7D5FA', label='hombre', kde=True)\n",
    "plt.xlabel('Edad Aproximada')\n",
    "plt.ylabel('Número de Pacientes')\n",
    "plt.title('Distribución de Edades de los Pacientes por Género')\n",
    "plt.legend()\n",
    "plt.show()"
   ]
  },
  {
   "cell_type": "code",
   "execution_count": null,
   "id": "7fe78bcb-3f64-4dfc-a6b9-c340c6626086",
   "metadata": {},
   "outputs": [],
   "source": [
    "data.localization = data.localization.replace('', np.nan)\n",
    "data.localization.value_counts(dropna=False)"
   ]
  },
  {
   "cell_type": "code",
   "execution_count": null,
   "id": "4c225017-89e0-4216-8f89-ce366514ffd5",
   "metadata": {},
   "outputs": [],
   "source": [
    "# Definimos un diccionario de mapeo de valores específicos de 'Diagnosis' a 'benigno' o 'maligno'\n",
    "mapeo_diagnosis = {\n",
    "    'dermatofibroma': 'benign',\n",
    "    'nevus': 'benign',\n",
    "    'keratosis': 'benign',\n",
    "    'vascular lesion': 'benign',\n",
    "    'melanoma': 'malignant',\n",
    "    'carcinoma': 'malignant',\n",
    "}\n",
    "\n",
    "# Aplicamos el mapeo a la columna 'Diagnosis' y asigna los resultados a una nueva columna llamada 'benign_malignant'\n",
    "data['benign_malignant'] = data['diagnosis'].map(mapeo_diagnosis)"
   ]
  },
  {
   "cell_type": "code",
   "execution_count": null,
   "id": "0dc1d433-0f14-4127-acf1-707b3d4d9b47",
   "metadata": {},
   "outputs": [],
   "source": [
    "data"
   ]
  },
  {
   "cell_type": "code",
   "execution_count": null,
   "id": "665d7c45-c05c-4955-9655-1f7487f12770",
   "metadata": {},
   "outputs": [],
   "source": [
    "count_data = data['benign_malignant'].value_counts().reset_index()\n",
    "count_data.columns = ['Diagnosis', 'Count']\n",
    "\n",
    "# Count de casos benignos y malignos\n",
    "num_benign = count_data[count_data['Diagnosis'] == 'benign']['Count'].values[0]\n",
    "num_malignant = count_data[count_data['Diagnosis'] == 'malignant']['Count'].values[0]\n",
    "\n",
    "ax = sns.barplot(data=count_data, x='Diagnosis', y='Count', hue='Diagnosis', dodge=False, legend=False)\n",
    "plt.xlabel('Tipo')\n",
    "plt.ylabel('Count')\n",
    "plt.title('Ratio de benigno versus maligno\\nBenignos: {} | Malignos: {}'.format(num_benign, num_malignant))\n",
    "plt.show()"
   ]
  },
  {
   "cell_type": "code",
   "execution_count": null,
   "id": "2d561ac3-1a4f-41dc-aec3-1e205a78b2ec",
   "metadata": {},
   "outputs": [],
   "source": [
    "# Eliminamos las muestras de diagnosis de tipo acral debido a que no se comparte con el resto de datasets y solo existen 7 muestras\n",
    "data = data[data['localization'] != \"acral\"]"
   ]
  },
  {
   "cell_type": "code",
   "execution_count": null,
   "id": "ec7c9e50-cdb0-454f-8dc8-b1c74fcba7a7",
   "metadata": {},
   "outputs": [],
   "source": [
    "# Filtramos filas donde la columna 'x' es igual a 'tipo a'\n",
    "indices_a_eliminar = data[data['localization'] == 'unknown'].index\n",
    "\n",
    "# Eliminamos las filas con los índices obtenidos\n",
    "data = data.drop(indices_a_eliminar)"
   ]
  },
  {
   "cell_type": "code",
   "execution_count": null,
   "id": "ef85861e-cc40-4b83-bba9-a27d90f76957",
   "metadata": {},
   "outputs": [],
   "source": [
    "# Mapeamos las localizaciones para que se adecuen al resto de datasets\n",
    "category_mapping = {\n",
    "    'scalp': 'head/neck',\n",
    "    'ear': 'head/neck',\n",
    "    'face': 'head/neck',\n",
    "    'back': 'posterior torso',\n",
    "    'trunk': 'anterior torso',\n",
    "    'chest': 'anterior torso',\n",
    "    'upper extremity': 'upper extremity',\n",
    "\n",
    "    'abdomen': 'anterior torso',\n",
    "    'lower extremity': 'lower extremity',\n",
    "    'genital': 'oral/genital',\n",
    "    'neck': 'head/neck',\n",
    "    'hand': 'palms/soles',\n",
    "    'foot': 'palms/soles',\n",
    "}\n",
    "\n",
    "data['localization'] = data['localization'].replace(category_mapping)"
   ]
  },
  {
   "cell_type": "code",
   "execution_count": null,
   "id": "bccc9b7e-28eb-499a-a372-0be274c094e4",
   "metadata": {},
   "outputs": [],
   "source": [
    "fig, ax = plt.subplots(figsize=(20,10))\n",
    "ax = sns.countplot(x='diagnosis', hue='localization', data=data, palette='pastel')\n",
    "for i,v in enumerate(data.localization.unique()):\n",
    "  try:\n",
    "    ax.bar_label(ax.containers[i])\n",
    "  except:\n",
    "    continue"
   ]
  },
  {
   "cell_type": "code",
   "execution_count": null,
   "id": "a83908bf-21c0-4043-b4c1-a987a8568a60",
   "metadata": {},
   "outputs": [],
   "source": [
    "# Filtramos el DataFrame para incluir solo las muestras de tipo \"nevus\"\n",
    "muestras_nevus = data[data['diagnosis'] == 'nevus']\n",
    "\n",
    "# Creamos un DataFrame vacío para almacenar las muestras después de la división\n",
    "df_dividido = pd.DataFrame(columns=data.columns)"
   ]
  },
  {
   "cell_type": "code",
   "execution_count": null,
   "id": "65e0a827-6db6-4604-8b1a-d974d0c84e96",
   "metadata": {},
   "outputs": [],
   "source": [
    "muestras_nevus"
   ]
  },
  {
   "cell_type": "code",
   "execution_count": null,
   "id": "e236a448-d89a-454d-a9fe-4f8a0d71c438",
   "metadata": {},
   "outputs": [],
   "source": [
    "# Contamos el número de muestras por cada tipo de diagnosis\n",
    "conteo_diagnosis = data['diagnosis'].value_counts()\n",
    "print(conteo_diagnosis)"
   ]
  },
  {
   "cell_type": "code",
   "execution_count": null,
   "id": "e548c276-e948-4ac6-a2b2-ac95f726407a",
   "metadata": {},
   "outputs": [],
   "source": [
    "#Eliminamos las muestras de tipo Nan para anatom_site_general y age\n",
    "data = data.dropna(subset=['diagnosis'])\n",
    "data = data.dropna(subset=['age'])\n",
    "data = data.dropna(subset=['sex'])\n",
    "data = data[data['sex'] != 'unknown']\n",
    "data = data.dropna(subset=['localization'])"
   ]
  },
  {
   "cell_type": "code",
   "execution_count": null,
   "id": "1793660f-7bf9-4caa-9803-1138ed0703d3",
   "metadata": {},
   "outputs": [],
   "source": [
    "# Categorizamos las variables para poder utilizarlas en el modelo \n",
    "sex_mapping = {'male': 0, 'female': 1}\n",
    "benign_malignant_mapping = {'benign': 0, 'malignant': 1}\n",
    "\n",
    "anatom_site_general_mapping = {\n",
    "'head/neck': 0,          \n",
    "'posterior torso': 1,    \n",
    "'lower extremity': 2,  \n",
    "'anterior torso': 3,   \n",
    "'upper extremity': 4,    \n",
    "'palms/soles': 5,         \n",
    "'lateral torso': 6,        \n",
    "'oral/genital': 7 }\n",
    "\n",
    "data.rename(columns={'localization': 'anatom_site_general'}, inplace=True)\n",
    "\n",
    "data['sex'] = data['sex'].replace(sex_mapping)\n",
    "\n",
    "data.rename(columns={'image_id': 'id'}, inplace=True)\n",
    "data.rename(columns={'age_approx': 'age'}, inplace=True)\n",
    "\n",
    "data['age'] = data['age'].astype(int)\n",
    "data['sex'] = data['sex'].astype(int) "
   ]
  },
  {
   "cell_type": "code",
   "execution_count": null,
   "id": "211ce56e-d54c-4572-bf94-be36341621f1",
   "metadata": {},
   "outputs": [],
   "source": [
    "data"
   ]
  },
  {
   "cell_type": "code",
   "execution_count": null,
   "id": "8de2f8bc-a299-4570-b6e9-718dc4aa55a7",
   "metadata": {},
   "outputs": [],
   "source": [
    "valores_unicos = data['benign_malignant'].unique()\n",
    "valores_unicos"
   ]
  },
  {
   "cell_type": "code",
   "execution_count": null,
   "id": "a4cb07c4-43bc-45ee-9192-b91ad48445e2",
   "metadata": {},
   "outputs": [],
   "source": [
    "# Ahora obtenemos una lista de los nombres de archivos correspondientes a las imágenes dermoscópicas\n",
    "archivos_dermoscopic = data['id'].tolist()\n",
    "archivos_dermoscopic = [id + \".jpg\" for id in archivos_dermoscopic]\n",
    "\n",
    "# Ruta de la carpeta que contiene todas las imágenes\n",
    "carpeta = './ISIC_HAM10000/Dataset/'\n",
    "\n",
    "# Obtenemos una lista de todos los archivos en la carpeta\n",
    "archivos_totales = os.listdir(carpeta)"
   ]
  },
  {
   "cell_type": "code",
   "execution_count": null,
   "id": "a4c296f3-23de-485e-8a0f-1efdb9230b2c",
   "metadata": {},
   "outputs": [],
   "source": [
    "import shutil\n",
    "\n",
    "# Si el archivo no es imagen dermatoscopica y existe lo eliminamos de la carpeta de imágenes\n",
    "for archivo in archivos_totales:\n",
    "    if archivo not in archivos_dermoscopic:\n",
    "        ruta_completa = os.path.join(carpeta, archivo)\n",
    "        if os.path.isfile(ruta_completa):\n",
    "            os.remove(ruta_completa)\n",
    "    else:\n",
    "        # Obtenemos la fila específica del dataset para el archivo actual\n",
    "        nombre_sin_extension, extension = os.path.splitext(archivo)\n",
    "        fila_especifica = data.loc[data['id'] == nombre_sin_extension]\n",
    "\n",
    "        # Obtenemos la etiqueta de la fila\n",
    "        etiqueta = fila_especifica['benign_malignant'].values[0]  # Asumiendo que 'benign_malignant' es el nombre de la columna\n",
    "        if etiqueta == 'benign':\n",
    "            shutil.copy(os.path.join(carpeta, archivo), \"./ISIC_HAM10000/Dataset/Benigno/\")\n",
    "        elif etiqueta == 'malignant':\n",
    "            shutil.copy(os.path.join(carpeta, archivo), \"./ISIC_HAM10000/Dataset/Maligno/\")"
   ]
  },
  {
   "cell_type": "code",
   "execution_count": null,
   "id": "52b08935-e161-4a1d-97ee-4b2c790c1e9d",
   "metadata": {},
   "outputs": [],
   "source": [
    "data['benign_malignant'] = data['benign_malignant'].replace(benign_malignant_mapping)"
   ]
  },
  {
   "cell_type": "code",
   "execution_count": null,
   "id": "e978e2f2-f84a-4170-afc9-f1c4da9dd4bb",
   "metadata": {},
   "outputs": [],
   "source": [
    "# Guardamos nuestro dataset procesado para el entrenamiento\n",
    "data.to_csv('./ISIC_HAM10000/final_metadata_HAM10000.csv', index=False)"
   ]
  }
 ],
 "metadata": {
  "kernelspec": {
   "display_name": "Python 3 (ipykernel)",
   "language": "python",
   "name": "python3"
  },
  "language_info": {
   "codemirror_mode": {
    "name": "ipython",
    "version": 3
   },
   "file_extension": ".py",
   "mimetype": "text/x-python",
   "name": "python",
   "nbconvert_exporter": "python",
   "pygments_lexer": "ipython3",
   "version": "3.9.19"
  }
 },
 "nbformat": 4,
 "nbformat_minor": 5
}
