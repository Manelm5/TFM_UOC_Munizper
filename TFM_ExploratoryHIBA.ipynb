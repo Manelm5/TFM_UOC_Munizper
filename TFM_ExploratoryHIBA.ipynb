{
 "cells": [
  {
   "cell_type": "code",
   "execution_count": null,
   "id": "27d52dcd-e171-47b2-b2eb-d5e0e1ada734",
   "metadata": {},
   "outputs": [],
   "source": [
    "import pandas as pd\n",
    "import numpy as np\n",
    "import matplotlib.pyplot as plt\n",
    "import seaborn as sns\n",
    "import os"
   ]
  },
  {
   "cell_type": "markdown",
   "id": "cc43bb60-2e6f-49fc-b7ea-13a6cbde7736",
   "metadata": {},
   "source": [
    "# Análisis exploratorio + Pre-procesamiento - Dataset HIBA"
   ]
  },
  {
   "cell_type": "code",
   "execution_count": null,
   "id": "2bf12ef6-6b0d-427f-b14d-a7c8c2695fbf",
   "metadata": {},
   "outputs": [],
   "source": [
    "os.makedirs('./ISIC_HIBASkinLesionsData', exist_ok=True)"
   ]
  },
  {
   "cell_type": "code",
   "execution_count": null,
   "id": "6fb19907-f99e-4c8d-b55b-8714432ac5d7",
   "metadata": {},
   "outputs": [],
   "source": [
    "data = pd.read_csv('./ISIC_HIBASkinLesionsData/metadata.csv')\n",
    "data['image_type'] = data['image_type'].str.replace('clinical: close-up','clinical').replace('clinical: overview','clinical')\n",
    "data_dermoscopic = data[data['image_type'] == 'dermoscopic']\n",
    "data_dermoscopic"
   ]
  },
  {
   "cell_type": "code",
   "execution_count": null,
   "id": "177be077-eb69-47e9-b3b9-5d93ed05116c",
   "metadata": {},
   "outputs": [],
   "source": [
    "# Eliminamos las columnas que no son de interés para nuestro análisis\n",
    "columnas_a_eliminar = ['copyright_license','concomitant_biopsy','dermoscopic_type', 'diagnosis_confirm_type', 'family_hx_mm', 'fitzpatrick_skin_type', 'image_type', 'personal_hx_mm']\n",
    "data_dermoscopic = data_dermoscopic.drop(columnas_a_eliminar, axis=1)\n",
    "data_dermoscopic"
   ]
  },
  {
   "cell_type": "code",
   "execution_count": null,
   "id": "7e20c5ed-2bad-415d-a032-9cbb4dfd1b59",
   "metadata": {},
   "outputs": [],
   "source": [
    "# Comprobación de valores null por columna\n",
    "valores_nulos_por_columna = data_dermoscopic.isnull().sum()\n",
    "print(valores_nulos_por_columna)"
   ]
  },
  {
   "cell_type": "code",
   "execution_count": null,
   "id": "2ee9e946-a5dd-464a-90f2-f0353142f802",
   "metadata": {},
   "outputs": [],
   "source": [
    "info_df = data_dermoscopic.info()\n",
    "print(info_df)"
   ]
  },
  {
   "cell_type": "code",
   "execution_count": null,
   "id": "76235606-79f7-4147-9afd-50058b744f81",
   "metadata": {},
   "outputs": [],
   "source": [
    "lesions_per_patient = []\n",
    "images_per_patient = []\n",
    "derm_per_patient = []\n",
    "\n",
    "for pat in data_dermoscopic.patient_id.unique():\n",
    "  aux = data_dermoscopic[data_dermoscopic.patient_id==pat]\n",
    "  lesions_per_patient.append(len(aux.lesion_id.unique()))\n",
    "  images_per_patient.append(len(aux))\n",
    "\n",
    "lesions_per_patient = np.asarray(lesions_per_patient)\n",
    "images_per_patient = np.asarray(images_per_patient)"
   ]
  },
  {
   "cell_type": "code",
   "execution_count": null,
   "id": "25c71ce3-4939-4cd3-bb30-541d32af0ae5",
   "metadata": {},
   "outputs": [],
   "source": [
    "# Eliminamos duplicados\n",
    "patient_data = data_dermoscopic[['patient_id','age_approx', 'sex']].reset_index(drop=True) \n",
    "patient_data.drop_duplicates(['patient_id'],inplace=True)\n",
    "patient_data.reset_index(inplace=True,drop=True)\n",
    "patient_data"
   ]
  },
  {
   "cell_type": "code",
   "execution_count": null,
   "id": "2a57d17d-1899-4147-9f3f-57674398ceb7",
   "metadata": {},
   "outputs": [],
   "source": [
    "# Se reemplazan valores vacíos en la columna 'age_approx' con NaN\n",
    "patient_data['age_approx'] = patient_data['age_approx'].astype(float)\n",
    "\n",
    "# Contamos los valores de 'age_approx', incluyendo NaN\n",
    "pvc = patient_data['age_approx'].value_counts(dropna=False)\n",
    "\n",
    "age_min = patient_data[\"age_approx\"].min()\n",
    "age_max = patient_data[\"age_approx\"].max()\n",
    "age_mean = patient_data[\"age_approx\"].mean()\n",
    "age_std = patient_data[\"age_approx\"].std()\n",
    "\n",
    "print(\"Estadísticas de edad de los pacientes:\")\n",
    "print(f\"Mínimo: {age_min}\")\n",
    "print(f\"Máximo: {age_max}\")\n",
    "print(f\"Media: {age_mean}\")\n",
    "print(f\"Desviación estándar: {age_std}\")\n",
    "\n",
    "sns.set(style=\"whitegrid\", palette=\"pastel\")\n",
    "sns.histplot(data=patient_data, x='age_approx', bins=30, kde=True, color='#6AB7F9')\n",
    "plt.xlabel('Edad Aproximada')\n",
    "plt.ylabel('Número de Pacientes')\n",
    "plt.title('Distribución de Edades de los Pacientes')\n",
    "plt.show()"
   ]
  },
  {
   "cell_type": "code",
   "execution_count": null,
   "id": "940e20d7-9b4c-498a-8fc2-3fc23a3e5725",
   "metadata": {},
   "outputs": [],
   "source": [
    "# Filtramos datos por género\n",
    "female_px = patient_data[patient_data.sex == 'female']\n",
    "male_px = patient_data[patient_data.sex == 'male']\n",
    "\n",
    "# Configuramos estilo y paleta de colores de Seaborn\n",
    "sns.set(style=\"whitegrid\", palette=\"pastel\")\n",
    "\n",
    "# Creamos histogramas separados por género\n",
    "sns.histplot(data=female_px, x='age_approx', color='#FABCB7', label='mujer', kde=True)\n",
    "sns.histplot(data=male_px, x='age_approx', color='#B7D5FA', label='hombre', kde=True)\n",
    "\n",
    "plt.xlabel('Edad Aproximada')\n",
    "plt.ylabel('Número de Pacientes')\n",
    "plt.title('Distribución de Edades de los Pacientes por Género')\n",
    "plt.legend()\n",
    "plt.show()"
   ]
  },
  {
   "cell_type": "code",
   "execution_count": null,
   "id": "0d50f1c9-dde3-4071-ab1f-cca6a2c410f7",
   "metadata": {},
   "outputs": [],
   "source": [
    "lesion_data = data[['patient_id','lesion_id','benign_malignant', 'diagnosis','diagnosis_confirm_type', 'anatom_site_general']]\n",
    "lesion_data.head()"
   ]
  },
  {
   "cell_type": "code",
   "execution_count": null,
   "id": "3ac59d6c-6439-419e-9d38-3a9d4aecb43b",
   "metadata": {},
   "outputs": [],
   "source": [
    "# Eliminamos duplicados\n",
    "lesion_data.drop_duplicates(['patient_id', 'lesion_id'], inplace=True)\n",
    "len(lesion_data)"
   ]
  },
  {
   "cell_type": "code",
   "execution_count": null,
   "id": "bbe8dd84-c8da-4742-ab74-2a017f483e08",
   "metadata": {},
   "outputs": [],
   "source": [
    "data_dermoscopic.diagnosis.value_counts()"
   ]
  },
  {
   "cell_type": "code",
   "execution_count": null,
   "id": "8543ab9c-bda5-4799-809d-f7344402ee7c",
   "metadata": {},
   "outputs": [],
   "source": [
    "# Eliminamos las filas donde el valor en la columna 'diagnosis' es NaN\n",
    "data_dermoscopic = data_dermoscopic.dropna(subset=['diagnosis'])"
   ]
  },
  {
   "cell_type": "code",
   "execution_count": null,
   "id": "3fdcefb6-d371-470d-ac27-8aeeff5dc479",
   "metadata": {},
   "outputs": [],
   "source": [
    "# Definimos un diccionario de mapeo de valores específicos de 'Diagnosis' a 'benigno' o 'maligno'\n",
    "mapeo_diagnosis = {\n",
    "    'basal cell carcinoma': 'carcinoma',\n",
    "    'squamous cell carcinoma': 'carcinoma',\n",
    "    'seborrheic keratosis': 'keratosis',\n",
    "    'actinic keratosis': 'keratosis',\n",
    "    'nevus': 'nevus',\n",
    "    'melanoma':'melanoma',\n",
    "    'dermatofibroma':'dermatofibroma',\n",
    "    'solar lentigo':'solar lentigo',\n",
    "    'vascular lesion': 'vascular lesion'\n",
    "\n",
    "}\n",
    "\n",
    "# Aplicamos el mapeo a la columna 'Diagnosis' y asigna los resultados a una nueva columna llamada 'Tipo'\n",
    "data_dermoscopic['diagnosis'] = data_dermoscopic['diagnosis'].map(mapeo_diagnosis)"
   ]
  },
  {
   "cell_type": "code",
   "execution_count": null,
   "id": "962f2ea2-93b9-4f1f-91ba-8835c8468dae",
   "metadata": {},
   "outputs": [],
   "source": [
    "count_data = data_dermoscopic['diagnosis'].value_counts().reset_index()\n",
    "count_data.columns = ['Diagnosis', 'Count']\n",
    "ax = sns.barplot(data=count_data, x='Count', y='Diagnosis', hue='Diagnosis', dodge=False, legend=False)\n",
    "plt.xlabel('Número de pacientes')\n",
    "plt.ylabel('Diagnóstico')\n",
    "plt.title('Pacientes según el tipo de diagnóstico')\n",
    "plt.show()"
   ]
  },
  {
   "cell_type": "code",
   "execution_count": null,
   "id": "9d00816f-dc7d-4a74-a24d-aa59072ad943",
   "metadata": {},
   "outputs": [],
   "source": [
    "count_data = data_dermoscopic['benign_malignant'].value_counts().reset_index()\n",
    "count_data.columns = ['Diagnosis', 'Count']\n",
    "\n",
    "# Count de casos benignos y malignos\n",
    "num_benign = count_data[count_data['Diagnosis'] == 'benign']['Count'].values[0]\n",
    "num_malignant = count_data[count_data['Diagnosis'] == 'malignant']['Count'].values[0]\n",
    "\n",
    "ax = sns.barplot(data=count_data, x='Diagnosis', y='Count', hue='Diagnosis', dodge=False, legend=False)\n",
    "plt.xlabel('Tipo')\n",
    "plt.ylabel('Count')\n",
    "plt.title('Ratio de benigno versus maligno\\nBenignos: {} | Malignos: {}'.format(num_benign, num_malignant))\n",
    "plt.show()"
   ]
  },
  {
   "cell_type": "code",
   "execution_count": null,
   "id": "4e3d2c26-4160-474c-aab6-5104a6e02207",
   "metadata": {},
   "outputs": [],
   "source": [
    "lesion_data.anatom_site_general = lesion_data.anatom_site_general.replace('', np.nan)\n",
    "lesion_data.anatom_site_general.value_counts(dropna=False)"
   ]
  },
  {
   "cell_type": "code",
   "execution_count": null,
   "id": "6597eb51-e4c5-4a90-972a-bb71f79a27cd",
   "metadata": {},
   "outputs": [],
   "source": [
    "#Eliminamos las muestras de tipo Nan para anatom_site_general y age\n",
    "data_dermoscopic = data_dermoscopic.dropna(subset=['anatom_site_general'])\n",
    "data_dermoscopic = data_dermoscopic.dropna(subset=['age_approx'])\n",
    "data_dermoscopic = data_dermoscopic.dropna(subset=['sex'])\n",
    "\n",
    "data_dermoscopic"
   ]
  },
  {
   "cell_type": "code",
   "execution_count": null,
   "id": "59f77d25-4fab-4001-be4a-b978ee885bda",
   "metadata": {},
   "outputs": [],
   "source": [
    "fig, ax = plt.subplots(figsize=(20,10))\n",
    "ax = sns.countplot(x='diagnosis', hue='anatom_site_general', data=data_dermoscopic, palette='pastel')\n",
    "for i,v in enumerate(lesion_data.anatom_site_general.unique()):\n",
    "  try:\n",
    "    ax.bar_label(ax.containers[i])\n",
    "  except:\n",
    "    continue"
   ]
  },
  {
   "cell_type": "code",
   "execution_count": null,
   "id": "1001f667-370b-4427-a9a9-dfbc49557630",
   "metadata": {},
   "outputs": [],
   "source": [
    "data_dermoscopic = data_dermoscopic[data_dermoscopic['diagnosis'] != 'lichenoid keratosis']"
   ]
  },
  {
   "cell_type": "code",
   "execution_count": null,
   "id": "5f63626f-0aef-424e-bfa2-17df8d1bdaea",
   "metadata": {},
   "outputs": [],
   "source": [
    "data_dermoscopic"
   ]
  },
  {
   "cell_type": "code",
   "execution_count": null,
   "id": "da4cd3ff-7110-4d36-a985-3473eeb87142",
   "metadata": {},
   "outputs": [],
   "source": [
    "# Eliminamos columnas no necesarias\n",
    "columns_to_drop = ['lesion_id', 'patient_id', 'attribution']\n",
    "data_dermoscopic.drop(columns=columns_to_drop, inplace=True)  "
   ]
  },
  {
   "cell_type": "code",
   "execution_count": null,
   "id": "4a959532-9915-4a0a-b508-128a4ccb97e5",
   "metadata": {},
   "outputs": [],
   "source": [
    "# Categorizamos las variables para poder utilizarlas en el modelo \n",
    "sex_mapping = {'male': 0, 'female': 1}\n",
    "\n",
    "diagnosis_mapping = {'nevus': 0,                      \n",
    "'basal cell carcinoma': 1,        \n",
    "'melanoma': 2,                   \n",
    "'squamous cell carcinoma': 3,    \n",
    "'seborrheic keratosis': 4,        \n",
    "'actinic keratosis': 5,           \n",
    "'vascular lesion': 6,             \n",
    "'dermatofibroma': 7,              \n",
    "'solar lentigo': 8,               \n",
    "'lichenoid keratosis': 9 }  \n",
    "\n",
    "benign_malignant_mapping = {'benign': 0, 'malignant': 1}\n",
    "\n",
    "anatom_site_general_mapping = {\n",
    "'head/neck': 0,          \n",
    "'posterior torso': 1,    \n",
    "'lower extremity': 2,  \n",
    "'anterior torso': 3,   \n",
    "'upper extremity': 4,    \n",
    "'palms/soles': 5,         \n",
    "'lateral torso': 6,        \n",
    "'oral/genital': 7 }  \n",
    "\n",
    "data_dermoscopic['sex'] = data_dermoscopic['sex'].replace(sex_mapping)\n",
    "\n",
    "data_dermoscopic.rename(columns={'isic_id': 'id'}, inplace=True)\n",
    "data_dermoscopic.rename(columns={'age_approx': 'age'}, inplace=True)\n",
    "data_dermoscopic['age'] = data_dermoscopic['age'].astype(int)\n",
    "data_dermoscopic['sex'] = data_dermoscopic['sex'].astype(int) "
   ]
  },
  {
   "cell_type": "code",
   "execution_count": null,
   "id": "7eef646e-c77a-4c49-8498-0dd434273a48",
   "metadata": {},
   "outputs": [],
   "source": [
    "data_dermoscopic"
   ]
  },
  {
   "cell_type": "code",
   "execution_count": null,
   "id": "78a300fb-7f47-42f5-9ad6-f1acb2d95a8e",
   "metadata": {},
   "outputs": [],
   "source": [
    "# Ahora obtenemos una lista de los nombres de archivos correspondientes a las imágenes dermoscópicas\n",
    "archivos_dermoscopic = data_dermoscopic['id'].tolist()\n",
    "archivos_dermoscopic = [id + \".JPG\" for id in archivos_dermoscopic]\n",
    "\n",
    "# Ruta de la carpeta que contiene todas las imágenes\n",
    "carpeta = './ISIC_HIBASkinLesionsData/Dataset/'\n",
    "\n",
    "# Obtenemos una lista de todos los archivos en la carpeta\n",
    "archivos_totales = os.listdir(carpeta)"
   ]
  },
  {
   "cell_type": "code",
   "execution_count": null,
   "id": "a272ddf0-3a80-4abf-b49a-ab2d0652c43b",
   "metadata": {},
   "outputs": [],
   "source": [
    "import shutil\n",
    "\n",
    "# Si el archivo no es imagen dermatoscopica y existe lo eliminamos de la carpeta de imágenes\n",
    "for archivo in archivos_totales:\n",
    "    if archivo not in archivos_dermoscopic:   \n",
    "        ruta_completa = os.path.join(carpeta, archivo)\n",
    "        if os.path.isfile(ruta_completa):\n",
    "            os.remove(ruta_completa)\n",
    "    else:\n",
    "        # Obtenemos la fila específica del dataset para el archivo actual\n",
    "        nombre_sin_extension, extension = os.path.splitext(archivo)\n",
    "        fila_especifica = data_dermoscopic.loc[data_dermoscopic['id'] == nombre_sin_extension]\n",
    "\n",
    "        # Obtenemos la etiqueta de la fila\n",
    "        etiqueta = fila_especifica['benign_malignant'].values[0]  \n",
    "        \n",
    "        # Mover el archivo según la etiqueta\n",
    "        if etiqueta == 'benign':\n",
    "            shutil.copy(os.path.join(carpeta, archivo), \"./ISIC_HIBASkinLesionsData/Dataset/Benigno/\")\n",
    "        elif etiqueta == 'malignant':\n",
    "            shutil.copy(os.path.join(carpeta, archivo), \"./ISIC_HIBASkinLesionsData/Dataset/Maligno/\")"
   ]
  },
  {
   "cell_type": "code",
   "execution_count": null,
   "id": "16f95574-aecf-4288-ac6e-7e08d3d2cc77",
   "metadata": {},
   "outputs": [],
   "source": [
    "data_dermoscopic['benign_malignant'] = data_dermoscopic['benign_malignant'].replace(benign_malignant_mapping)"
   ]
  },
  {
   "cell_type": "code",
   "execution_count": null,
   "id": "666c94c3-2527-47b0-8891-feb886332780",
   "metadata": {},
   "outputs": [],
   "source": [
    "# Añadimos los factores climatoloógicos obtenidos anteriormente al conjunto\n",
    "\n",
    "#Temperatura\n",
    "data_dermoscopic['max_temp'] = 36.0\n",
    "data_dermoscopic['min_tmp'] = -2.2\n",
    "data_dermoscopic['mean_temp'] = 17.16158674803836\n",
    "data_dermoscopic['median_temp'] = 17.0\n",
    "data_dermoscopic['std_temp'] = 7.031212802223093\n",
    "\n",
    "#Dew Point\n",
    "data_dermoscopic['max_dew_point'] = 25.1\n",
    "data_dermoscopic['min_dew_point'] = -10.8\n",
    "data_dermoscopic['mean_dew_point'] = 11.131390885616582\n",
    "data_dermoscopic['median_dew_point'] = 12.0\n",
    "data_dermoscopic['std_dew_point'] = 6.1068307450132835\n",
    "\n",
    "#Wind Speed\n",
    "data_dermoscopic['max_wind_speed'] = 250.02\n",
    "data_dermoscopic['min_wind_speed'] = 0.0\n",
    "data_dermoscopic['mean_wind_speed'] = 12.097432691302986\n",
    "data_dermoscopic['median_wind_speed'] = 11.16\n",
    "data_dermoscopic['std_wind_speed'] = 7.027559785092077\n",
    "\n",
    "#Wind Direction\n",
    "data_dermoscopic['max_wind_direction'] = 360.0\n",
    "data_dermoscopic['min_wind_direction'] = 7.0\n",
    "data_dermoscopic['mean_wind_direction'] = 166.10650887573965\n",
    "data_dermoscopic['median_wind_direction'] = 140.0\n",
    "data_dermoscopic['std_wind_direction'] = 101.95115122631336\n",
    "\n",
    "#Visibility\n",
    "data_dermoscopic['max_visibility'] = 21.02\n",
    "data_dermoscopic['min_visibility'] = 0.0\n",
    "data_dermoscopic['mean_visibility'] = 8.779571632390299\n",
    "data_dermoscopic['median_visibility'] = 10.0\n",
    "data_dermoscopic['std_visibility'] = 2.6558069047881507"
   ]
  },
  {
   "cell_type": "code",
   "execution_count": null,
   "id": "db112bb3-9768-4c49-880f-17d5d5ab911b",
   "metadata": {},
   "outputs": [],
   "source": [
    "data_dermoscopic = data_dermoscopic.dropna(subset=['diagnosis'])"
   ]
  },
  {
   "cell_type": "code",
   "execution_count": null,
   "id": "68bb13c4-5d8d-4711-a4b8-886667aeeffc",
   "metadata": {},
   "outputs": [],
   "source": [
    "# Leemos el nuevo dataset de calculos solares\n",
    "data_calcs = pd.read_csv('./ISIC_HIBASkinLesionsData/HIBA_solar_calcs.csv')\n",
    "data_calcs"
   ]
  },
  {
   "cell_type": "code",
   "execution_count": null,
   "id": "644e5d8a-6517-499d-8fe1-d8274da59c3b",
   "metadata": {},
   "outputs": [],
   "source": [
    "# Transformamos el nuevo dataset para obtener una estructura entendible y facilmente iterable \n",
    "variables = [\n",
    "    \"ALLSKY_KT\",\n",
    "    \"CLOUD_AMT\",\n",
    "    \"TOA_SW_DWN\",\n",
    "    \"ALLSKY_SFC_UVA\",\n",
    "    \"ALLSKY_SFC_UVB\",\n",
    "    \"ALLSKY_SRF_ALB\",\n",
    "    \"ALLSKY_SFC_SW_DNI\",\n",
    "    \"ALLSKY_SFC_SW_DWN\",\n",
    "    \"ALLSKY_SFC_PAR_TOT\",\n",
    "    \"ALLSKY_SFC_SW_DIFF\"\n",
    "]\n",
    "\n",
    "columns = [\n",
    "    \"max\",\n",
    "    \"min\",\n",
    "    \"mean\",\n",
    "    \"median\",\n",
    "    \"std\",\n",
    "]\n",
    "\n",
    "data_calcs.index = variables\n",
    "data_calcs.columns = columns\n",
    "\n",
    "data_calcs"
   ]
  },
  {
   "cell_type": "code",
   "execution_count": null,
   "id": "9251ba35-6502-4bd0-ba67-a6c34e869f9f",
   "metadata": {},
   "outputs": [],
   "source": [
    "# Introducimos los nuevos datos al dataset original\n",
    "for index, row in data_calcs.iterrows():\n",
    "    nombre = row.name  \n",
    "    for columna in data_calcs.columns:\n",
    "        estadistica = columna \n",
    "        nuevo_nombre_columna = f\"{nombre}_{estadistica}\"  \n",
    "        data_dermoscopic[nuevo_nombre_columna] = row[columna]"
   ]
  },
  {
   "cell_type": "code",
   "execution_count": null,
   "id": "9ded3185-ae45-495f-91da-91cb5b7b7bda",
   "metadata": {},
   "outputs": [],
   "source": [
    "data_dermoscopic"
   ]
  },
  {
   "cell_type": "code",
   "execution_count": null,
   "id": "06337671-5c84-4672-916b-5de376b29d88",
   "metadata": {},
   "outputs": [],
   "source": [
    "# Guardamos el dataset de factores externos\n",
    "data_dermoscopic.to_csv('./ISIC_HIBASkinLesionsData/final_metadata_HIBA.csv', index=False)"
   ]
  }
 ],
 "metadata": {
  "kernelspec": {
   "display_name": "Python 3 (ipykernel)",
   "language": "python",
   "name": "python3"
  },
  "language_info": {
   "codemirror_mode": {
    "name": "ipython",
    "version": 3
   },
   "file_extension": ".py",
   "mimetype": "text/x-python",
   "name": "python",
   "nbconvert_exporter": "python",
   "pygments_lexer": "ipython3",
   "version": "3.9.19"
  }
 },
 "nbformat": 4,
 "nbformat_minor": 5
}
